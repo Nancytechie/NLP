{
  "nbformat": 4,
  "nbformat_minor": 0,
  "metadata": {
    "colab": {
      "provenance": [],
      "gpuType": "T4"
    },
    "kernelspec": {
      "name": "python3",
      "display_name": "Python 3"
    },
    "language_info": {
      "name": "python"
    },
    "accelerator": "GPU"
  },
  "cells": [
    {
      "cell_type": "code",
      "source": [
        "!wget -nc https://raw.githubusercontent.com/lazyprogrammer/machine_learning_examples/master/hmm_class/edgar_allan_poe.txt\n",
        "!wget -nc https://raw.githubusercontent.com/lazyprogrammer/machine_learning_examples/master/hmm_class/robert_frost.txt"
      ],
      "metadata": {
        "colab": {
          "base_uri": "https://localhost:8080/"
        },
        "id": "kLjsCji76XHx",
        "outputId": "b03886a4-7855-4c8b-935b-6a2316763423"
      },
      "execution_count": 1,
      "outputs": [
        {
          "output_type": "stream",
          "name": "stdout",
          "text": [
            "--2025-02-08 05:01:22--  https://raw.githubusercontent.com/lazyprogrammer/machine_learning_examples/master/hmm_class/edgar_allan_poe.txt\n",
            "Resolving raw.githubusercontent.com (raw.githubusercontent.com)... 185.199.108.133, 185.199.109.133, 185.199.110.133, ...\n",
            "Connecting to raw.githubusercontent.com (raw.githubusercontent.com)|185.199.108.133|:443... connected.\n",
            "HTTP request sent, awaiting response... 200 OK\n",
            "Length: 26622 (26K) [text/plain]\n",
            "Saving to: ‘edgar_allan_poe.txt’\n",
            "\n",
            "edgar_allan_poe.txt 100%[===================>]  26.00K  --.-KB/s    in 0.002s  \n",
            "\n",
            "2025-02-08 05:01:23 (16.6 MB/s) - ‘edgar_allan_poe.txt’ saved [26622/26622]\n",
            "\n",
            "--2025-02-08 05:01:23--  https://raw.githubusercontent.com/lazyprogrammer/machine_learning_examples/master/hmm_class/robert_frost.txt\n",
            "Resolving raw.githubusercontent.com (raw.githubusercontent.com)... 185.199.108.133, 185.199.109.133, 185.199.110.133, ...\n",
            "Connecting to raw.githubusercontent.com (raw.githubusercontent.com)|185.199.108.133|:443... connected.\n",
            "HTTP request sent, awaiting response... 200 OK\n",
            "Length: 56286 (55K) [text/plain]\n",
            "Saving to: ‘robert_frost.txt’\n",
            "\n",
            "robert_frost.txt    100%[===================>]  54.97K  --.-KB/s    in 0.006s  \n",
            "\n",
            "2025-02-08 05:01:23 (8.47 MB/s) - ‘robert_frost.txt’ saved [56286/56286]\n",
            "\n"
          ]
        }
      ]
    },
    {
      "cell_type": "code",
      "source": [
        "import numpy as np\n",
        "import matplotlib.pyplot as plt\n",
        "import string\n",
        "from sklearn.model_selection import train_test_split"
      ],
      "metadata": {
        "id": "Rb2q7LvX6XVk"
      },
      "execution_count": 2,
      "outputs": []
    },
    {
      "cell_type": "code",
      "source": [
        "input_files = [\n",
        "  'edgar_allan_poe.txt',\n",
        "  'robert_frost.txt',\n",
        "]"
      ],
      "metadata": {
        "id": "_lIHVoo26Xbc"
      },
      "execution_count": 3,
      "outputs": []
    },
    {
      "cell_type": "code",
      "source": [
        "!head edgar_allan_poe.txt"
      ],
      "metadata": {
        "colab": {
          "base_uri": "https://localhost:8080/"
        },
        "id": "1dtbm2T96XeH",
        "outputId": "ff9aba52-e93a-418d-da4d-7bf21ff5f5da"
      },
      "execution_count": 4,
      "outputs": [
        {
          "output_type": "stream",
          "name": "stdout",
          "text": [
            "LO! Death hath rear'd himself a throne\n",
            "In a strange city, all alone,\n",
            "Far down within the dim west\n",
            "Where the good, and the bad, and the worst, and the best,\n",
            "Have gone to their eternal rest.\n",
            " \n",
            "There shrines, and palaces, and towers\n",
            "Are not like any thing of ours\n",
            "Oh no! O no! ours never loom\n",
            "To heaven with that ungodly gloom!\n"
          ]
        }
      ]
    },
    {
      "cell_type": "code",
      "source": [
        "!head robert_frost.txt"
      ],
      "metadata": {
        "colab": {
          "base_uri": "https://localhost:8080/"
        },
        "id": "fD_mlxxk6Xgz",
        "outputId": "9fb92569-a4b4-43dc-ec0a-9c70cc3a8c3e"
      },
      "execution_count": 5,
      "outputs": [
        {
          "output_type": "stream",
          "name": "stdout",
          "text": [
            "Two roads diverged in a yellow wood,\n",
            "And sorry I could not travel both\n",
            "And be one traveler, long I stood\n",
            "And looked down one as far as I could\n",
            "To where it bent in the undergrowth; \n",
            "\n",
            "Then took the other, as just as fair,\n",
            "And having perhaps the better claim\n",
            "Because it was grassy and wanted wear,\n",
            "Though as for that the passing there\n"
          ]
        }
      ]
    },
    {
      "cell_type": "code",
      "source": [
        "# collect data into lists\n",
        "input_texts = []\n",
        "labels = []\n",
        "\n",
        "for label, f in enumerate(input_files):\n",
        "  print(f\"{f} corresponds to label {label}\")\n",
        "\n",
        "  for line in open(f):\n",
        "    line = line.rstrip().lower()\n",
        "    if line:\n",
        "      # remove punctuation\n",
        "      line = line.translate(str.maketrans('', '', string.punctuation))\n",
        "\n",
        "      input_texts.append(line)\n",
        "      labels.append(label)"
      ],
      "metadata": {
        "colab": {
          "base_uri": "https://localhost:8080/"
        },
        "id": "KqzFoDna6XjZ",
        "outputId": "b60c5c1c-0075-43f2-b3b0-babfe3d04d25"
      },
      "execution_count": 6,
      "outputs": [
        {
          "output_type": "stream",
          "name": "stdout",
          "text": [
            "edgar_allan_poe.txt corresponds to label 0\n",
            "robert_frost.txt corresponds to label 1\n"
          ]
        }
      ]
    },
    {
      "cell_type": "code",
      "source": [
        "train_text, test_text, Ytrain, Ytest = train_test_split(input_texts, labels)"
      ],
      "metadata": {
        "id": "PzHimXmX6Xm4"
      },
      "execution_count": 7,
      "outputs": []
    },
    {
      "cell_type": "code",
      "source": [
        "len(Ytrain), len(Ytest)"
      ],
      "metadata": {
        "colab": {
          "base_uri": "https://localhost:8080/"
        },
        "id": "AJWYlBQq6zGy",
        "outputId": "856ddbf8-53ed-4f9a-c409-1684d0f0cad2"
      },
      "execution_count": 8,
      "outputs": [
        {
          "output_type": "execute_result",
          "data": {
            "text/plain": [
              "(1615, 539)"
            ]
          },
          "metadata": {},
          "execution_count": 8
        }
      ]
    },
    {
      "cell_type": "code",
      "source": [
        "train_text[:5]"
      ],
      "metadata": {
        "colab": {
          "base_uri": "https://localhost:8080/"
        },
        "id": "Ds-WaWI661az",
        "outputId": "38bb4b40-f061-4f0f-c0c0-df479f62147a"
      },
      "execution_count": 9,
      "outputs": [
        {
          "output_type": "execute_result",
          "data": {
            "text/plain": [
              "['with the weight of an age of snows',\n",
              " 'and built a stone baptismal font outdoors',\n",
              " 'hed like to take me there and show it to me',\n",
              " 'where the good and the bad and the worst and the best',\n",
              " 'therefore thou art not wrong']"
            ]
          },
          "metadata": {},
          "execution_count": 9
        }
      ]
    },
    {
      "cell_type": "code",
      "source": [
        "Ytrain[:5]"
      ],
      "metadata": {
        "colab": {
          "base_uri": "https://localhost:8080/"
        },
        "id": "nvWq1U_y61Ud",
        "outputId": "c99692f1-2b62-458f-9477-b665ffce851c"
      },
      "execution_count": 10,
      "outputs": [
        {
          "output_type": "execute_result",
          "data": {
            "text/plain": [
              "[0, 1, 1, 0, 0]"
            ]
          },
          "metadata": {},
          "execution_count": 10
        }
      ]
    },
    {
      "cell_type": "code",
      "source": [
        "idx = 1\n",
        "word2idx = {'<unk>': 0}"
      ],
      "metadata": {
        "id": "4Cl9IlYS61RH"
      },
      "execution_count": 11,
      "outputs": []
    },
    {
      "cell_type": "code",
      "source": [
        "# populate word2idx\n",
        "for text in train_text:\n",
        "    tokens = text.split()\n",
        "    for token in tokens:\n",
        "      if token not in word2idx:\n",
        "        word2idx[token] = idx\n",
        "        idx += 1"
      ],
      "metadata": {
        "id": "57l9M_5261NS"
      },
      "execution_count": 12,
      "outputs": []
    },
    {
      "cell_type": "code",
      "source": [
        "word2idx"
      ],
      "metadata": {
        "colab": {
          "base_uri": "https://localhost:8080/"
        },
        "id": "8yATJmH061KI",
        "outputId": "a3d13280-3363-417d-fe7b-9fe42b072748"
      },
      "execution_count": 13,
      "outputs": [
        {
          "output_type": "execute_result",
          "data": {
            "text/plain": [
              "{'<unk>': 0,\n",
              " 'with': 1,\n",
              " 'the': 2,\n",
              " 'weight': 3,\n",
              " 'of': 4,\n",
              " 'an': 5,\n",
              " 'age': 6,\n",
              " 'snows': 7,\n",
              " 'and': 8,\n",
              " 'built': 9,\n",
              " 'a': 10,\n",
              " 'stone': 11,\n",
              " 'baptismal': 12,\n",
              " 'font': 13,\n",
              " 'outdoors': 14,\n",
              " 'hed': 15,\n",
              " 'like': 16,\n",
              " 'to': 17,\n",
              " 'take': 18,\n",
              " 'me': 19,\n",
              " 'there': 20,\n",
              " 'show': 21,\n",
              " 'it': 22,\n",
              " 'where': 23,\n",
              " 'good': 24,\n",
              " 'bad': 25,\n",
              " 'worst': 26,\n",
              " 'best': 27,\n",
              " 'therefore': 28,\n",
              " 'thou': 29,\n",
              " 'art': 30,\n",
              " 'not': 31,\n",
              " 'wrong': 32,\n",
              " 'thats': 33,\n",
              " 'his': 34,\n",
              " 'mistake': 35,\n",
              " 'dear': 36,\n",
              " 'knows': 37,\n",
              " 'my': 38,\n",
              " 'interest': 39,\n",
              " 'or': 40,\n",
              " 'creaking': 41,\n",
              " 'buggy': 42,\n",
              " 'load': 43,\n",
              " 'grain': 44,\n",
              " 'though': 45,\n",
              " 'what': 46,\n",
              " 'you': 47,\n",
              " 'can': 48,\n",
              " 'be': 49,\n",
              " 'anyone': 50,\n",
              " 'had': 51,\n",
              " 'been': 52,\n",
              " 'too': 53,\n",
              " 'short': 54,\n",
              " 'sell': 55,\n",
              " 'give': 56,\n",
              " 'away': 57,\n",
              " 'her': 58,\n",
              " 'early': 59,\n",
              " 'leafs': 60,\n",
              " 'flower': 61,\n",
              " 'o': 62,\n",
              " 'i': 63,\n",
              " 'care': 64,\n",
              " 'that': 65,\n",
              " 'earthly': 66,\n",
              " 'lot': 67,\n",
              " 'its': 68,\n",
              " 'old': 69,\n",
              " 'captains': 70,\n",
              " 'dark': 71,\n",
              " 'fate': 72,\n",
              " 'end': 73,\n",
              " 'far': 74,\n",
              " 'from': 75,\n",
              " 'going': 76,\n",
              " 'forth': 77,\n",
              " 'giddy': 78,\n",
              " 'stars': 79,\n",
              " 'so': 80,\n",
              " 'legends': 81,\n",
              " 'tell': 82,\n",
              " 'how': 83,\n",
              " 'woe': 84,\n",
              " 'yet': 85,\n",
              " 'sublime': 86,\n",
              " 'hope': 87,\n",
              " 'two': 88,\n",
              " 'oldbelievers': 89,\n",
              " 'they': 90,\n",
              " 'did': 91,\n",
              " 'all': 92,\n",
              " 'talking': 93,\n",
              " 'which': 94,\n",
              " 'is': 95,\n",
              " 'we': 96,\n",
              " 'passed': 97,\n",
              " 'vista': 98,\n",
              " 'im': 99,\n",
              " 'sure': 100,\n",
              " 'she': 101,\n",
              " 'wont': 102,\n",
              " 'come': 103,\n",
              " 'back': 104,\n",
              " 'shes': 105,\n",
              " 'hiding': 106,\n",
              " 'somewhere': 107,\n",
              " 'mother': 108,\n",
              " 'bones': 109,\n",
              " 'skeleton': 110,\n",
              " 'at': 111,\n",
              " 'our': 112,\n",
              " 'path': 113,\n",
              " 'liquescent': 114,\n",
              " 'have': 115,\n",
              " 'right': 116,\n",
              " 'heard': 117,\n",
              " 'in': 118,\n",
              " 'this': 119,\n",
              " 'place': 120,\n",
              " 'some': 121,\n",
              " 'say': 122,\n",
              " 'world': 123,\n",
              " 'will': 124,\n",
              " 'fire': 125,\n",
              " 'love': 126,\n",
              " 'on': 127,\n",
              " 'impulse': 128,\n",
              " 'means': 129,\n",
              " 'seven': 130,\n",
              " 'caves': 131,\n",
              " 'came': 132,\n",
              " 'out': 133,\n",
              " 'who': 134,\n",
              " 'used': 135,\n",
              " 'live': 136,\n",
              " 'here': 137,\n",
              " 'were': 138,\n",
              " 'robinsons': 139,\n",
              " 'joy': 140,\n",
              " 'breathing': 141,\n",
              " 'isles': 142,\n",
              " 'blest': 143,\n",
              " 'as': 144,\n",
              " 'leaves': 145,\n",
              " 'withering': 146,\n",
              " 'sere': 147,\n",
              " 'but': 148,\n",
              " 'when': 149,\n",
              " 'gone': 150,\n",
              " 'course': 151,\n",
              " 'cant': 152,\n",
              " 'stay': 153,\n",
              " 'those': 154,\n",
              " 'unusual': 155,\n",
              " 'strings': 156,\n",
              " 'beauty': 157,\n",
              " 'tonight': 158,\n",
              " 'cross': 159,\n",
              " 'lots': 160,\n",
              " 'walls': 161,\n",
              " 'everything': 162,\n",
              " 'shoeing': 163,\n",
              " 'home': 164,\n",
              " 'across': 165,\n",
              " 'white': 166,\n",
              " 'along': 167,\n",
              " 'wilderness': 168,\n",
              " 'glass': 169,\n",
              " 'answering': 170,\n",
              " 'your': 171,\n",
              " 'knock': 172,\n",
              " 'no': 173,\n",
              " 'more': 174,\n",
              " 'perhaps': 175,\n",
              " 'may': 176,\n",
              " 'mind': 177,\n",
              " 'wrought': 178,\n",
              " 'undo': 179,\n",
              " 'done': 180,\n",
              " 'make': 181,\n",
              " 'lyre': 182,\n",
              " 'within': 183,\n",
              " 'sky': 184,\n",
              " 'height': 185,\n",
              " 'adventure': 186,\n",
              " 'memories': 187,\n",
              " 'treacherous': 188,\n",
              " 'hillside': 189,\n",
              " 'day': 190,\n",
              " 'sun': 191,\n",
              " 'lets': 192,\n",
              " 'go': 193,\n",
              " 'should': 194,\n",
              " 'shouldnt': 195,\n",
              " 'youre': 196,\n",
              " 'many': 197,\n",
              " 'times': 198,\n",
              " 'died': 199,\n",
              " 'arms': 200,\n",
              " 'adoring': 201,\n",
              " 'airs': 202,\n",
              " 'was': 203,\n",
              " 'knew': 204,\n",
              " 'them': 205,\n",
              " 'reason': 206,\n",
              " 'ice': 207,\n",
              " 'through': 208,\n",
              " 'house': 209,\n",
              " 'stripped': 210,\n",
              " 'truest': 211,\n",
              " 'most': 212,\n",
              " 'fervently': 213,\n",
              " 'devoted': 214,\n",
              " 'see': 215,\n",
              " 'mounted': 216,\n",
              " 'for': 217,\n",
              " 'walk': 218,\n",
              " 'crooking': 219,\n",
              " 'trillium': 220,\n",
              " 'takes': 221,\n",
              " 'moon': 222,\n",
              " 'suns': 223,\n",
              " 'wizard': 224,\n",
              " 'why': 225,\n",
              " 'do': 226,\n",
              " 'speak': 227,\n",
              " 'know': 228,\n",
              " 'sound': 229,\n",
              " 'violin': 230,\n",
              " 'dont': 231,\n",
              " 'spirits': 232,\n",
              " 'moving': 233,\n",
              " 'musically': 234,\n",
              " 'darkly': 235,\n",
              " 'present': 236,\n",
              " 'past': 237,\n",
              " 'him': 238,\n",
              " 'living': 239,\n",
              " 'other': 240,\n",
              " 'worlds': 241,\n",
              " 'shall': 242,\n",
              " 'given': 243,\n",
              " 'baby': 244,\n",
              " 'window': 245,\n",
              " 'pipes': 246,\n",
              " 'smoking': 247,\n",
              " 'jug': 248,\n",
              " 'after': 249,\n",
              " 'manner': 250,\n",
              " 'stock': 251,\n",
              " 'stop': 252,\n",
              " 'shouting': 253,\n",
              " 'up': 254,\n",
              " 'mowing': 255,\n",
              " 'field': 256,\n",
              " 'talk': 257,\n",
              " 'serious': 258,\n",
              " 'sober': 259,\n",
              " 'vacuum': 260,\n",
              " 'filmy': 261,\n",
              " 'heaven': 262,\n",
              " 'then': 263,\n",
              " 'must': 264,\n",
              " 'strange': 265,\n",
              " 'enough': 266,\n",
              " 'set': 267,\n",
              " 'voices': 268,\n",
              " 'speaking': 269,\n",
              " 'poetesss': 270,\n",
              " 'life': 271,\n",
              " 'fever': 272,\n",
              " 'minute': 273,\n",
              " 'havent': 274,\n",
              " 'farm': 275,\n",
              " 'owe': 276,\n",
              " 'thee': 277,\n",
              " 'whose': 278,\n",
              " 'gratitude': 279,\n",
              " 'ought': 280,\n",
              " 'purer': 281,\n",
              " 'oracle': 282,\n",
              " 'donkeys': 283,\n",
              " 'ears': 284,\n",
              " 'suggest': 285,\n",
              " 'shake': 286,\n",
              " 'own': 287,\n",
              " 'half': 288,\n",
              " 'outdoor': 289,\n",
              " 'work': 290,\n",
              " 'he': 291,\n",
              " 'stopping': 292,\n",
              " 'ive': 293,\n",
              " 'nothing': 294,\n",
              " 'sailed': 295,\n",
              " 'said': 296,\n",
              " 'once': 297,\n",
              " 'kinsman': 298,\n",
              " 'first': 299,\n",
              " 'theres': 300,\n",
              " 'childrens': 301,\n",
              " 'makebelieve': 302,\n",
              " 'bade': 303,\n",
              " 'pause': 304,\n",
              " 'before': 305,\n",
              " 'gardengate': 306,\n",
              " 'crew': 307,\n",
              " 'left': 308,\n",
              " 'failed': 309,\n",
              " 'saw': 310,\n",
              " 'unless': 311,\n",
              " 'stove': 312,\n",
              " 'asked': 313,\n",
              " 'anything': 314,\n",
              " 'idled': 315,\n",
              " 'down': 316,\n",
              " 'roads': 317,\n",
              " 'diverged': 318,\n",
              " 'yellow': 319,\n",
              " 'wood': 320,\n",
              " 'made': 321,\n",
              " 'tutelar': 322,\n",
              " 'shrine': 323,\n",
              " 'one': 324,\n",
              " 'street': 325,\n",
              " 'shine': 326,\n",
              " 'us': 327,\n",
              " 'bright': 328,\n",
              " 'eyes': 329,\n",
              " 'yes': 330,\n",
              " 'could': 331,\n",
              " 'son': 332,\n",
              " 'truth': 333,\n",
              " 'isnt': 334,\n",
              " 'hell': 335,\n",
              " 'want': 336,\n",
              " 'polish': 337,\n",
              " 'off': 338,\n",
              " 'crust': 339,\n",
              " 'thrones': 340,\n",
              " 'longforgotten': 341,\n",
              " 'bowers': 342,\n",
              " 'separate': 343,\n",
              " 'coops': 344,\n",
              " 'having': 345,\n",
              " 'their': 346,\n",
              " 'plumage': 347,\n",
              " 'supposed': 348,\n",
              " 'mad': 349,\n",
              " 'arent': 350,\n",
              " 'nowadays': 351,\n",
              " 'myself': 352,\n",
              " 'hear': 353,\n",
              " 'according': 354,\n",
              " 'feared': 355,\n",
              " 'risk': 356,\n",
              " 'doth': 357,\n",
              " 'oer': 358,\n",
              " 'pass': 359,\n",
              " 'th': 360,\n",
              " 'expanding': 361,\n",
              " 'eye': 362,\n",
              " 'while': 363,\n",
              " 'high': 364,\n",
              " 'towers': 365,\n",
              " 'town': 366,\n",
              " 'only': 367,\n",
              " 'sounds': 368,\n",
              " 'sweep': 369,\n",
              " 'sometimes': 370,\n",
              " 'dim': 371,\n",
              " 'seal': 372,\n",
              " 'yelp': 373,\n",
              " 'spirit': 374,\n",
              " 'dwell': 375,\n",
              " 'time': 376,\n",
              " 'long': 377,\n",
              " 'ago': 378,\n",
              " 'let': 379,\n",
              " 'future': 380,\n",
              " 'radiant': 381,\n",
              " 'mean': 382,\n",
              " 'estelle': 383,\n",
              " 'has': 384,\n",
              " 'always': 385,\n",
              " 'held': 386,\n",
              " 'purse': 387,\n",
              " 'merrily': 388,\n",
              " 'wings': 389,\n",
              " 'until': 390,\n",
              " 'trailed': 391,\n",
              " 'dust': 392,\n",
              " 'laurels': 393,\n",
              " 'belong': 394,\n",
              " 'cold': 395,\n",
              " 'spring': 396,\n",
              " 'near': 397,\n",
              " 'source': 398,\n",
              " 'board': 399,\n",
              " 'laid': 400,\n",
              " 'dryshod': 401,\n",
              " 'stifling': 402,\n",
              " 'hot': 403,\n",
              " 'odor': 404,\n",
              " 'sap': 405,\n",
              " 'sit': 406,\n",
              " 'light': 407,\n",
              " 'bird': 408,\n",
              " 'singing': 409,\n",
              " 'now': 410,\n",
              " 'almost': 411,\n",
              " 'moment': 412,\n",
              " 'opening': 413,\n",
              " 'solemn': 414,\n",
              " 'peals': 415,\n",
              " 'vast': 416,\n",
              " 'forms': 417,\n",
              " 'move': 418,\n",
              " 'fantastically': 419,\n",
              " 'sproutlands': 420,\n",
              " 'flourish': 421,\n",
              " 'axe': 422,\n",
              " 'preyest': 423,\n",
              " 'thus': 424,\n",
              " 'upon': 425,\n",
              " 'poets': 426,\n",
              " 'heart': 427,\n",
              " 'cried': 428,\n",
              " 'shame': 429,\n",
              " 'blanket': 430,\n",
              " 'nowhere': 431,\n",
              " 'wheels': 432,\n",
              " 'dyou': 433,\n",
              " 'person': 434,\n",
              " 'related': 435,\n",
              " 'herself': 436,\n",
              " 'trembled': 437,\n",
              " 'stirred': 438,\n",
              " 'remember': 439,\n",
              " 'ever': 440,\n",
              " 'cared': 441,\n",
              " 'just': 442,\n",
              " 'fun': 443,\n",
              " 'way': 444,\n",
              " 'gets': 445,\n",
              " 'bedeviled': 446,\n",
              " 'would': 447,\n",
              " 'starks': 448,\n",
              " 'doubtless': 449,\n",
              " 'today': 450,\n",
              " 'brook': 451,\n",
              " 'makes': 452,\n",
              " 'such': 453,\n",
              " 'wild': 454,\n",
              " 'descent': 455,\n",
              " 'sincere': 456,\n",
              " 'reply': 457,\n",
              " 'thy': 458,\n",
              " 'gentle': 459,\n",
              " 'ways': 460,\n",
              " 'twas': 461,\n",
              " 'money': 462,\n",
              " 'throw': 463,\n",
              " 'bare': 464,\n",
              " 'legs': 465,\n",
              " 'bed': 466,\n",
              " 'geese': 467,\n",
              " 'lake': 468,\n",
              " 'storm': 469,\n",
              " 'over': 470,\n",
              " 'much': 471,\n",
              " 'bay': 472,\n",
              " 'nearest': 473,\n",
              " 'resembles': 474,\n",
              " 'worship': 475,\n",
              " 'oh': 476,\n",
              " 'hes': 477,\n",
              " 'case': 478,\n",
              " 'folks': 479,\n",
              " 'afraid': 480,\n",
              " 'get': 481,\n",
              " 'forgive': 482,\n",
              " 'owing': 483,\n",
              " 'simple': 484,\n",
              " 'duty': 485,\n",
              " 'save': 486,\n",
              " 'divine': 487,\n",
              " 'thine': 488,\n",
              " 'very': 489,\n",
              " 'well': 490,\n",
              " 'help': 491,\n",
              " 'wonder': 492,\n",
              " 'if': 493,\n",
              " 'soon': 494,\n",
              " 'satisfied': 495,\n",
              " 'being': 496,\n",
              " 'tone': 497,\n",
              " 'hath': 498,\n",
              " 'striven': 499,\n",
              " 'village': 500,\n",
              " 'library': 501,\n",
              " 'exclaimed': 502,\n",
              " 'afar': 503,\n",
              " 'got': 504,\n",
              " 'by': 505,\n",
              " 'something': 506,\n",
              " 'guess': 507,\n",
              " 'found': 508,\n",
              " 'blotting': 509,\n",
              " 'utterly': 510,\n",
              " 'witchs': 511,\n",
              " 'motto': 512,\n",
              " 'anyway': 513,\n",
              " 'admiring': 514,\n",
              " 'natures': 515,\n",
              " 'universal': 516,\n",
              " 'throne': 517,\n",
              " 'seem': 518,\n",
              " 'fingers': 519,\n",
              " 'are': 520,\n",
              " 'about': 521,\n",
              " 'use': 522,\n",
              " 'embalmed': 523,\n",
              " 'echoing': 524,\n",
              " 'songs': 525,\n",
              " 'holy': 526,\n",
              " 'rays': 527,\n",
              " 'still': 528,\n",
              " 'mustnt': 529,\n",
              " 'virtue': 530,\n",
              " 'humanity': 531,\n",
              " 'hours': 532,\n",
              " 'flew': 533,\n",
              " 'brightly': 534,\n",
              " 'doorsill': 535,\n",
              " 'corner': 536,\n",
              " 'piece': 537,\n",
              " 'brown': 538,\n",
              " 'hour': 539,\n",
              " 'night': 540,\n",
              " 'box': 541,\n",
              " 'put': 542,\n",
              " 'whom': 543,\n",
              " 'absence': 544,\n",
              " 'revolving': 545,\n",
              " 'scene': 546,\n",
              " 'married': 547,\n",
              " 'chance': 548,\n",
              " 'need': 549,\n",
              " 'object': 550,\n",
              " 'hid': 551,\n",
              " 'renewed': 552,\n",
              " 'paint': 553,\n",
              " 'prospect': 554,\n",
              " 'terminates': 555,\n",
              " 'porphyrogene': 556,\n",
              " 'seen': 557,\n",
              " 't': 558,\n",
              " 'awake': 559,\n",
              " 'tis': 560,\n",
              " 'symbol': 561,\n",
              " 'token': 562,\n",
              " 'quick': 563,\n",
              " 'slammed': 564,\n",
              " 'door': 565,\n",
              " 'knob': 566,\n",
              " 'cellar': 567,\n",
              " 'hole': 568,\n",
              " 'byroad': 569,\n",
              " 'black': 570,\n",
              " 'smart': 571,\n",
              " 'pair': 572,\n",
              " 'pumps': 573,\n",
              " 'beading': 574,\n",
              " 'birds': 575,\n",
              " 'outer': 576,\n",
              " 'windowsill': 577,\n",
              " 'stole': 578,\n",
              " 'goblet': 579,\n",
              " 'playhouse': 580,\n",
              " 'untidy': 581,\n",
              " 'attic': 582,\n",
              " 'rights': 583,\n",
              " 'harder': 584,\n",
              " 'knowing': 585,\n",
              " 'leads': 586,\n",
              " 'small': 587,\n",
              " 'book': 588,\n",
              " 'pocket': 589,\n",
              " 'three': 590,\n",
              " 'fear': 591,\n",
              " 'treading': 592,\n",
              " 'bead': 593,\n",
              " 'silver': 594,\n",
              " 'water': 595,\n",
              " 'less': 596,\n",
              " 'struck': 597,\n",
              " 'en': 598,\n",
              " 'masse': 599,\n",
              " 'never': 600,\n",
              " 'sitting': 601,\n",
              " 'standing': 602,\n",
              " 'chose': 603,\n",
              " 'nor': 604,\n",
              " 'ghoulhaunted': 605,\n",
              " 'woodland': 606,\n",
              " 'weir': 607,\n",
              " 'difference': 608,\n",
              " 'israfelis': 609,\n",
              " 'last': 610,\n",
              " 'years': 611,\n",
              " 'berries': 612,\n",
              " 'shining': 613,\n",
              " 'scarlet': 614,\n",
              " 'red': 615,\n",
              " 'better': 616,\n",
              " 'claim': 617,\n",
              " 'tender': 618,\n",
              " 'verse': 619,\n",
              " 'escaped': 620,\n",
              " 'outrage': 621,\n",
              " 'build': 622,\n",
              " 'chimney': 623,\n",
              " 'clear': 624,\n",
              " 'ground': 625,\n",
              " 'room': 626,\n",
              " 'bill': 627,\n",
              " 'without': 628,\n",
              " 'farmhouse': 629,\n",
              " 'stranger': 630,\n",
              " 'cousins': 631,\n",
              " 'family': 632,\n",
              " 'tree': 633,\n",
              " 'fly': 634,\n",
              " 'estelles': 635,\n",
              " 'settled': 636,\n",
              " 'wit': 637,\n",
              " 'wisdom': 638,\n",
              " 'king': 639,\n",
              " 'does': 640,\n",
              " 'rain': 641,\n",
              " 'cool': 642,\n",
              " 'guessed': 643,\n",
              " 'theyd': 644,\n",
              " 'roses': 645,\n",
              " 'odors': 646,\n",
              " 'sweet': 647,\n",
              " 'dreams': 648,\n",
              " 'softmurmured': 649,\n",
              " 'words': 650,\n",
              " 'often': 651,\n",
              " 'whats': 652,\n",
              " 'lantern': 653,\n",
              " 'chores': 654,\n",
              " 'crosslegged': 655,\n",
              " 'dank': 656,\n",
              " 'tarn': 657,\n",
              " 'auber': 658,\n",
              " 'push': 659,\n",
              " 'headboard': 660,\n",
              " 'against': 661,\n",
              " 'warren': 662,\n",
              " 'march': 663,\n",
              " 'meeting': 664,\n",
              " 'ultimate': 665,\n",
              " 'climes': 666,\n",
              " 'pole': 667,\n",
              " 'thatd': 668,\n",
              " 'ill': 669,\n",
              " 'hardly': 670,\n",
              " 'breathe': 671,\n",
              " 'headed': 672,\n",
              " 'for—': 673,\n",
              " 'johns': 674,\n",
              " 'someone': 675,\n",
              " 'wampum': 676,\n",
              " 'call': 677,\n",
              " 'complain': 678,\n",
              " 'watched': 679,\n",
              " 'forty': 680,\n",
              " 'holes': 681,\n",
              " 'waters': 682,\n",
              " 'watering': 683,\n",
              " 'crystalline': 684,\n",
              " 'celestial': 685,\n",
              " 'spheres': 686,\n",
              " 'tempted': 687,\n",
              " 'gloom': 688,\n",
              " 'cedar': 689,\n",
              " 'waterside': 690,\n",
              " 'fanes': 691,\n",
              " 'babylonlike': 692,\n",
              " 'heres': 693,\n",
              " 'hoping': 694,\n",
              " 'drink': 695,\n",
              " 'safely': 696,\n",
              " 'plain': 697,\n",
              " 'statement': 698,\n",
              " 'relationship': 699,\n",
              " 'wrote': 700,\n",
              " 'things': 701,\n",
              " 'power': 702,\n",
              " 'seems': 703,\n",
              " 'undone': 704,\n",
              " 'kept': 705,\n",
              " 'hidden': 706,\n",
              " 'instep': 707,\n",
              " 'arch': 708,\n",
              " 'open': 709,\n",
              " 'told': 710,\n",
              " 'timber': 711,\n",
              " 'worry': 712,\n",
              " 'stood': 713,\n",
              " 'strain': 714,\n",
              " 'hens': 715,\n",
              " 'cows': 716,\n",
              " 'pigs': 717,\n",
              " 'spoke': 718,\n",
              " 'safe': 719,\n",
              " 'seraphic': 720,\n",
              " 'glancing': 721,\n",
              " 'drag': 722,\n",
              " 'man': 723,\n",
              " 'origin': 724,\n",
              " 'hurry': 725,\n",
              " 'unhitch': 726,\n",
              " 'thought': 727,\n",
              " 'arose': 728,\n",
              " 'human': 729,\n",
              " 'brain': 730,\n",
              " 'think': 731,\n",
              " 'shaded': 732,\n",
              " 'witch': 733,\n",
              " 'happened': 734,\n",
              " 'winter': 735,\n",
              " 'might': 736,\n",
              " 'winds': 737,\n",
              " 'meet': 738,\n",
              " 'pendulous': 739,\n",
              " 'air': 740,\n",
              " 'turned': 741,\n",
              " 'repented': 742,\n",
              " 'coming': 743,\n",
              " 'explain': 744,\n",
              " 'any': 745,\n",
              " 'starlight': 746,\n",
              " 'pall': 747,\n",
              " 'also': 748,\n",
              " 'great': 749,\n",
              " 'men': 750,\n",
              " 'tears': 751,\n",
              " 'dry': 752,\n",
              " 'whatever': 753,\n",
              " 'cost': 754,\n",
              " 'apiece': 755,\n",
              " 'pound': 756,\n",
              " 'tower': 757,\n",
              " 'lutes': 758,\n",
              " 'welltuned': 759,\n",
              " 'law': 760,\n",
              " 'woods': 761,\n",
              " 'wilds': 762,\n",
              " 'mountains': 763,\n",
              " 'intense': 764,\n",
              " 'wind': 765,\n",
              " 'dared': 766,\n",
              " 'stir': 767,\n",
              " 'tiptoe': 768,\n",
              " 'faster': 769,\n",
              " 'slower': 770,\n",
              " 'chanced': 771,\n",
              " 'pathway': 772,\n",
              " 'part': 773,\n",
              " 'swept': 774,\n",
              " 'heavens': 775,\n",
              " 'turning': 776,\n",
              " 'heel': 777,\n",
              " 'fresh': 778,\n",
              " 'myrtle': 779,\n",
              " 'blade': 780,\n",
              " 'entwine': 781,\n",
              " 'well—i—be—': 782,\n",
              " 'for—montreal': 783,\n",
              " 'four': 784,\n",
              " 'cards': 785,\n",
              " 'yours': 786,\n",
              " 'mine': 787,\n",
              " 'each': 788,\n",
              " 'branch': 789,\n",
              " 'adding': 790,\n",
              " 'frost': 791,\n",
              " 'snow': 792,\n",
              " 'tasted': 793,\n",
              " 'desire': 794,\n",
              " 'roof': 795,\n",
              " 'float': 796,\n",
              " 'flow': 797,\n",
              " 'noted': 798,\n",
              " 'motionless': 799,\n",
              " 'golden': 800,\n",
              " 'ye': 801,\n",
              " 'avengers': 802,\n",
              " 'libertys': 803,\n",
              " 'wrongs': 804,\n",
              " 'sacred': 805,\n",
              " 'weeping': 806,\n",
              " 'bless': 807,\n",
              " 'houri': 808,\n",
              " 'glances': 809,\n",
              " 'folk': 810,\n",
              " 'ones': 811,\n",
              " 'pieces': 812,\n",
              " 'lately': 813,\n",
              " 'hinder': 814,\n",
              " 'another': 815,\n",
              " 'star': 816,\n",
              " 'outwalked': 817,\n",
              " 'furthest': 818,\n",
              " 'city': 819,\n",
              " 'boring': 820,\n",
              " 'climbing': 821,\n",
              " 'hyacinthine': 822,\n",
              " 'isle': 823,\n",
              " 'purple': 824,\n",
              " 'zante': 825,\n",
              " 'send': 826,\n",
              " 'sailing': 827,\n",
              " 'since': 828,\n",
              " 'looks': 829,\n",
              " 'misty': 830,\n",
              " 'mid': 831,\n",
              " 'region': 832,\n",
              " 'late': 833,\n",
              " 'wouldnt': 834,\n",
              " 'turn': 835,\n",
              " 'doll': 836,\n",
              " 'pasture': 837,\n",
              " 'rig': 838,\n",
              " 'wait': 839,\n",
              " 'visions': 840,\n",
              " 'consult': 841,\n",
              " 'whereat': 842,\n",
              " 'warmer': 843,\n",
              " 'than': 844,\n",
              " 'dian': 845,\n",
              " 'wasnt': 846,\n",
              " 'wentworth': 847,\n",
              " 'new': 848,\n",
              " 'cottage': 849,\n",
              " 'ancient': 850,\n",
              " 'spot': 851,\n",
              " 'i—': 852,\n",
              " 'foot': 853,\n",
              " 'avail': 854,\n",
              " 'heavy': 855,\n",
              " 'iron': 856,\n",
              " 'bells': 857,\n",
              " 'trod': 858,\n",
              " 'uncomfortably': 859,\n",
              " 'crunching': 860,\n",
              " 'hurt': 861,\n",
              " 'hen': 862,\n",
              " 'windbreak': 863,\n",
              " 'miles': 864,\n",
              " 'abode': 865,\n",
              " 'appear': 866,\n",
              " 'monolithic': 867,\n",
              " 'knees': 868,\n",
              " 'former': 869,\n",
              " 'grandsir': 870,\n",
              " 'stark': 871,\n",
              " 'distinctly': 872,\n",
              " 'graveyard': 873,\n",
              " 'marble': 874,\n",
              " 'sculpture': 875,\n",
              " 'weather': 876,\n",
              " 'liked': 877,\n",
              " 'didnt': 878,\n",
              " 'relish': 879,\n",
              " 'sits': 880,\n",
              " 'sings': 881,\n",
              " 'ramparts': 882,\n",
              " 'plumed': 883,\n",
              " 'pallid': 884,\n",
              " 'harm': 885,\n",
              " 'thrown': 886,\n",
              " 'zealous': 887,\n",
              " 'laborious': 888,\n",
              " 'device': 889,\n",
              " 'twenty': 890,\n",
              " 'hoed': 891,\n",
              " 'little': 892,\n",
              " 'yesterday': 893,\n",
              " 'tall': 894,\n",
              " 'big': 895,\n",
              " 'church': 896,\n",
              " 'organ': 897,\n",
              " 'fine': 898,\n",
              " 'fibrils': 899,\n",
              " 'wouldst': 900,\n",
              " 'loved': 901,\n",
              " 'luminous': 902,\n",
              " 'windows': 903,\n",
              " 'lane': 904,\n",
              " 'banners': 905,\n",
              " 'glorious': 906,\n",
              " 'distinct': 907,\n",
              " 'duplicate': 908,\n",
              " 'horn': 909,\n",
              " 'pride': 910,\n",
              " 'intellectuality': 911,\n",
              " 'both': 912,\n",
              " 'morning': 913,\n",
              " 'equally': 914,\n",
              " 'lay': 915,\n",
              " 'hoary': 916,\n",
              " 'trees': 917,\n",
              " 'groans': 918,\n",
              " 'stained': 919,\n",
              " 'vegetation': 920,\n",
              " 'above': 921,\n",
              " 'sing': 922,\n",
              " 'wildly': 923,\n",
              " 'hearthistories': 924,\n",
              " 'seemed': 925,\n",
              " 'enwritten': 926,\n",
              " 'settle': 927,\n",
              " 'hence': 928,\n",
              " 'crisped': 929,\n",
              " 'soul': 930,\n",
              " 'uplifted': 931,\n",
              " 'revels': 932,\n",
              " 'sighs': 933,\n",
              " 'didst': 934,\n",
              " 'glide': 935,\n",
              " 'remained': 936,\n",
              " 'richer': 937,\n",
              " 'wilder': 938,\n",
              " 'diviner': 939,\n",
              " 'plumes': 940,\n",
              " 'till': 941,\n",
              " 'plagued': 942,\n",
              " 'death': 943,\n",
              " 'looked': 944,\n",
              " 'slippery': 945,\n",
              " 'slope': 946,\n",
              " 'claiming': 947,\n",
              " 'priority': 948,\n",
              " 'starkness': 949,\n",
              " 'viola': 950,\n",
              " 'follow': 951,\n",
              " 'realms': 952,\n",
              " 'boreal': 953,\n",
              " 'enchanted': 954,\n",
              " 'faroff': 955,\n",
              " 'thence': 956,\n",
              " 'sprung': 957,\n",
              " 'numerous': 958,\n",
              " 'tribe': 959,\n",
              " 'unembodied': 960,\n",
              " 'essence': 961,\n",
              " 'stroked': 962,\n",
              " 'hornyhanded': 963,\n",
              " 'kindness': 964,\n",
              " 'into': 965,\n",
              " 'lost': 966,\n",
              " 'scarce': 967,\n",
              " 'prize': 968,\n",
              " 'hard': 969,\n",
              " 'again': 970,\n",
              " 'round': 971,\n",
              " 'glory': 972,\n",
              " 'lion': 973,\n",
              " 'signals': 974,\n",
              " 'deep': 975,\n",
              " 'thoughts': 976,\n",
              " 'misting': 977,\n",
              " 'fair': 978,\n",
              " 'doubt': 979,\n",
              " 'grown': 980,\n",
              " 'around': 981,\n",
              " 'id': 982,\n",
              " 'worn': 983,\n",
              " 'skin': 984,\n",
              " 'yawning': 985,\n",
              " 'lenses': 986,\n",
              " 'melancholy': 987,\n",
              " 'whole': 988,\n",
              " 'beyond': 989,\n",
              " 'confusion': 990,\n",
              " 'carry': 991,\n",
              " 'sleeping': 992,\n",
              " 'warm': 993,\n",
              " 'accept': 994,\n",
              " 'substitute': 995,\n",
              " 'empty': 996,\n",
              " 'laugh': 997,\n",
              " 'smile': 998,\n",
              " 'listened': 999,\n",
              " ...}"
            ]
          },
          "metadata": {},
          "execution_count": 13
        }
      ]
    },
    {
      "cell_type": "code",
      "source": [
        "len(word2idx)"
      ],
      "metadata": {
        "colab": {
          "base_uri": "https://localhost:8080/"
        },
        "id": "9_CtUBKT60oX",
        "outputId": "e9c9f89c-9e7f-4ee6-94db-d01260137bf5"
      },
      "execution_count": 14,
      "outputs": [
        {
          "output_type": "execute_result",
          "data": {
            "text/plain": [
              "2527"
            ]
          },
          "metadata": {},
          "execution_count": 14
        }
      ]
    },
    {
      "cell_type": "code",
      "source": [
        "# convert data into integer format\n",
        "train_text_int = []\n",
        "test_text_int = []\n",
        "\n",
        "for text in train_text:\n",
        "  tokens = text.split()\n",
        "  line_as_int = [word2idx[token] for token in tokens]\n",
        "  train_text_int.append(line_as_int)\n",
        "\n",
        "for text in test_text:\n",
        "  tokens = text.split()\n",
        "  line_as_int = [word2idx.get(token, 0) for token in tokens]\n",
        "  test_text_int.append(line_as_int)"
      ],
      "metadata": {
        "id": "HNAVpbdu7B_p"
      },
      "execution_count": 15,
      "outputs": []
    },
    {
      "cell_type": "code",
      "source": [
        "train_text_int[100:105]"
      ],
      "metadata": {
        "colab": {
          "base_uri": "https://localhost:8080/"
        },
        "id": "roX0OKCC7D3n",
        "outputId": "f060ee67-1a37-4935-ef61-3e68e39def99"
      },
      "execution_count": 16,
      "outputs": [
        {
          "output_type": "execute_result",
          "data": {
            "text/plain": [
              "[[363, 75, 2, 364, 365, 4, 2, 366],\n",
              " [2, 367, 240, 368, 2, 369],\n",
              " [68, 370, 371],\n",
              " [2, 372, 373],\n",
              " [118, 262, 10, 374, 357, 375]]"
            ]
          },
          "metadata": {},
          "execution_count": 16
        }
      ]
    },
    {
      "cell_type": "code",
      "source": [
        "# initialize A and pi matrices - for both classes\n",
        "V = len(word2idx)\n",
        "\n",
        "A0 = np.ones((V, V))\n",
        "pi0 = np.ones(V)\n",
        "\n",
        "A1 = np.ones((V, V))\n",
        "pi1 = np.ones(V)"
      ],
      "metadata": {
        "id": "q5dEAOFV7FVv"
      },
      "execution_count": 17,
      "outputs": []
    },
    {
      "cell_type": "code",
      "source": [
        "# compute counts for A and pi\n",
        "def compute_counts(text_as_int, A, pi):\n",
        "  for tokens in text_as_int:\n",
        "    last_idx = None\n",
        "    for idx in tokens:\n",
        "      if last_idx is None:\n",
        "        # it's the first word in a sentence\n",
        "        pi[idx] += 1\n",
        "      else:\n",
        "        # the last word exists, so count a transition\n",
        "        A[last_idx, idx] += 1\n",
        "\n",
        "      # update last idx\n",
        "      last_idx = idx\n",
        "\n",
        "\n",
        "compute_counts([t for t, y in zip(train_text_int, Ytrain) if y == 0], A0, pi0)\n",
        "compute_counts([t for t, y in zip(train_text_int, Ytrain) if y == 1], A1, pi1)"
      ],
      "metadata": {
        "id": "DKBWGvvu7HBE"
      },
      "execution_count": 18,
      "outputs": []
    },
    {
      "cell_type": "code",
      "source": [
        "A0 /= A0.sum(axis=1, keepdims=True)\n",
        "pi0 /= pi0.sum()\n",
        "\n",
        "A1 /= A1.sum(axis=1, keepdims=True)\n",
        "pi1 /= pi1.sum()"
      ],
      "metadata": {
        "id": "YyFq7wtf7Lpx"
      },
      "execution_count": 19,
      "outputs": []
    },
    {
      "cell_type": "code",
      "source": [
        "logA0 = np.log(A0)\n",
        "logpi0 = np.log(pi0)\n",
        "\n",
        "logA1 = np.log(A1)\n",
        "logpi1 = np.log(pi1)"
      ],
      "metadata": {
        "id": "TJ5I0GDc7SU_"
      },
      "execution_count": 20,
      "outputs": []
    },
    {
      "cell_type": "code",
      "source": [
        "count0 = sum(y == 0 for y in Ytrain)\n",
        "count1 = sum(y == 1 for y in Ytrain)\n",
        "total = len(Ytrain)\n",
        "p0 = count0 / total\n",
        "p1 = count1 / total\n",
        "logp0 = np.log(p0)\n",
        "logp1 = np.log(p1)\n",
        "p0, p1"
      ],
      "metadata": {
        "colab": {
          "base_uri": "https://localhost:8080/"
        },
        "id": "xdteheWD7TMM",
        "outputId": "e304cea2-8d5f-4c05-ba85-133434f3f8b3"
      },
      "execution_count": 21,
      "outputs": [
        {
          "output_type": "execute_result",
          "data": {
            "text/plain": [
              "(0.3318885448916409, 0.6681114551083591)"
            ]
          },
          "metadata": {},
          "execution_count": 21
        }
      ]
    },
    {
      "cell_type": "code",
      "source": [
        "# build a classifier\n",
        "class Classifier:\n",
        "  def __init__(self, logAs, logpis, logpriors):\n",
        "    self.logAs = logAs\n",
        "    self.logpis = logpis\n",
        "    self.logpriors = logpriors\n",
        "    self.K = len(logpriors) # number of classes\n",
        "\n",
        "  def _compute_log_likelihood(self, input_, class_):\n",
        "    logA = self.logAs[class_]\n",
        "    logpi = self.logpis[class_]\n",
        "\n",
        "    last_idx = None\n",
        "    logprob = 0\n",
        "    for idx in input_:\n",
        "      if last_idx is None:\n",
        "        # it's the first token\n",
        "        logprob += logpi[idx]\n",
        "      else:\n",
        "        logprob += logA[last_idx, idx]\n",
        "\n",
        "      # update last_idx\n",
        "      last_idx = idx\n",
        "\n",
        "    return logprob\n",
        "\n",
        "  def predict(self, inputs):\n",
        "    predictions = np.zeros(len(inputs))\n",
        "    for i, input_ in enumerate(inputs):\n",
        "      posteriors = [self._compute_log_likelihood(input_, c) + self.logpriors[c] \\\n",
        "             for c in range(self.K)]\n",
        "      pred = np.argmax(posteriors)\n",
        "      predictions[i] = pred\n",
        "    return predictions"
      ],
      "metadata": {
        "id": "i2MK6xO67TIr"
      },
      "execution_count": 22,
      "outputs": []
    },
    {
      "cell_type": "code",
      "source": [
        "clf = Classifier([logA0, logA1], [logpi0, logpi1], [logp0, logp1])"
      ],
      "metadata": {
        "id": "eF2Av_T87TGx"
      },
      "execution_count": 23,
      "outputs": []
    },
    {
      "cell_type": "code",
      "source": [
        "Ptrain = clf.predict(train_text_int)\n",
        "print(f\"Train acc: {np.mean(Ptrain == Ytrain)}\")"
      ],
      "metadata": {
        "colab": {
          "base_uri": "https://localhost:8080/"
        },
        "id": "js-O1Mho7TEH",
        "outputId": "009bed2a-77f4-4be7-c06d-eff0830bbc1c"
      },
      "execution_count": 24,
      "outputs": [
        {
          "output_type": "stream",
          "name": "stdout",
          "text": [
            "Train acc: 0.9962848297213622\n"
          ]
        }
      ]
    },
    {
      "cell_type": "code",
      "source": [
        "Ptest = clf.predict(test_text_int)\n",
        "print(f\"Test acc: {np.mean(Ptest == Ytest)}\")"
      ],
      "metadata": {
        "colab": {
          "base_uri": "https://localhost:8080/"
        },
        "id": "suBUneiu7fVE",
        "outputId": "bf494c65-cfe8-483d-9971-4d894bf37d13"
      },
      "execution_count": 25,
      "outputs": [
        {
          "output_type": "stream",
          "name": "stdout",
          "text": [
            "Test acc: 0.8237476808905381\n"
          ]
        }
      ]
    },
    {
      "cell_type": "code",
      "source": [
        "from sklearn.metrics import confusion_matrix, f1_score"
      ],
      "metadata": {
        "id": "2xg0xLQw7gL7"
      },
      "execution_count": 26,
      "outputs": []
    },
    {
      "cell_type": "code",
      "source": [
        "cm = confusion_matrix(Ytrain, Ptrain)\n",
        "cm"
      ],
      "metadata": {
        "colab": {
          "base_uri": "https://localhost:8080/"
        },
        "id": "LhI9Kv0G7gIv",
        "outputId": "de464cf9-79a2-4f8f-908b-833ee5aaef90"
      },
      "execution_count": 27,
      "outputs": [
        {
          "output_type": "execute_result",
          "data": {
            "text/plain": [
              "array([[ 530,    6],\n",
              "       [   0, 1079]])"
            ]
          },
          "metadata": {},
          "execution_count": 27
        }
      ]
    },
    {
      "cell_type": "code",
      "source": [
        "cm_test = confusion_matrix(Ytest, Ptest)\n",
        "cm_test"
      ],
      "metadata": {
        "colab": {
          "base_uri": "https://localhost:8080/"
        },
        "id": "J0jMEHjo7gGA",
        "outputId": "2c0fca8e-3767-4041-8f7a-e10a4c2d9bd9"
      },
      "execution_count": 28,
      "outputs": [
        {
          "output_type": "execute_result",
          "data": {
            "text/plain": [
              "array([[ 94,  88],\n",
              "       [  7, 350]])"
            ]
          },
          "metadata": {},
          "execution_count": 28
        }
      ]
    },
    {
      "cell_type": "code",
      "source": [
        "f1_score(Ytrain, Ptrain)"
      ],
      "metadata": {
        "colab": {
          "base_uri": "https://localhost:8080/"
        },
        "id": "9ravIQoP7orG",
        "outputId": "fa769e72-c3c3-4a4d-b814-7bde30a20928"
      },
      "execution_count": 29,
      "outputs": [
        {
          "output_type": "execute_result",
          "data": {
            "text/plain": [
              "0.9972273567467652"
            ]
          },
          "metadata": {},
          "execution_count": 29
        }
      ]
    },
    {
      "cell_type": "code",
      "source": [
        "f1_score(Ytest, Ptest)"
      ],
      "metadata": {
        "colab": {
          "base_uri": "https://localhost:8080/"
        },
        "id": "HNBaRxB57p59",
        "outputId": "4a71639e-6aff-4acd-c14a-34b23fbc94e1"
      },
      "execution_count": 30,
      "outputs": [
        {
          "output_type": "execute_result",
          "data": {
            "text/plain": [
              "0.8805031446540881"
            ]
          },
          "metadata": {},
          "execution_count": 30
        }
      ]
    },
    {
      "cell_type": "code",
      "source": [],
      "metadata": {
        "id": "BAPRzAXm7rdD"
      },
      "execution_count": 30,
      "outputs": []
    }
  ]
}