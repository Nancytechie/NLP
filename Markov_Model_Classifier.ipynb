{
  "nbformat": 4,
  "nbformat_minor": 0,
  "metadata": {
    "colab": {
      "provenance": []
    },
    "kernelspec": {
      "name": "python3",
      "display_name": "Python 3"
    },
    "language_info": {
      "name": "python"
    }
  },
  "cells": [
    {
      "cell_type": "code",
      "execution_count": 1,
      "metadata": {
        "colab": {
          "base_uri": "https://localhost:8080/"
        },
        "id": "wVNjsPTUwsD6",
        "outputId": "fe48c7fa-f390-4074-d3ba-8a6d14500dc1"
      },
      "outputs": [
        {
          "output_type": "stream",
          "name": "stdout",
          "text": [
            "--2025-02-07 07:11:10--  https://raw.githubusercontent.com/lazyprogrammer/machine_learning_examples/master/hmm_class/edgar_allan_poe.txt\n",
            "Resolving raw.githubusercontent.com (raw.githubusercontent.com)... 185.199.111.133, 185.199.108.133, 185.199.109.133, ...\n",
            "Connecting to raw.githubusercontent.com (raw.githubusercontent.com)|185.199.111.133|:443... connected.\n",
            "HTTP request sent, awaiting response... 200 OK\n",
            "Length: 26622 (26K) [text/plain]\n",
            "Saving to: ‘edgar_allan_poe.txt’\n",
            "\n",
            "edgar_allan_poe.txt 100%[===================>]  26.00K  --.-KB/s    in 0.002s  \n",
            "\n",
            "2025-02-07 07:11:10 (16.2 MB/s) - ‘edgar_allan_poe.txt’ saved [26622/26622]\n",
            "\n",
            "--2025-02-07 07:11:10--  https://raw.githubusercontent.com/lazyprogrammer/machine_learning_examples/master/hmm_class/robert_frost.txt\n",
            "Resolving raw.githubusercontent.com (raw.githubusercontent.com)... 185.199.108.133, 185.199.109.133, 185.199.110.133, ...\n",
            "Connecting to raw.githubusercontent.com (raw.githubusercontent.com)|185.199.108.133|:443... connected.\n",
            "HTTP request sent, awaiting response... 200 OK\n",
            "Length: 56286 (55K) [text/plain]\n",
            "Saving to: ‘robert_frost.txt’\n",
            "\n",
            "robert_frost.txt    100%[===================>]  54.97K  --.-KB/s    in 0.01s   \n",
            "\n",
            "2025-02-07 07:11:11 (5.14 MB/s) - ‘robert_frost.txt’ saved [56286/56286]\n",
            "\n"
          ]
        }
      ],
      "source": [
        "!wget -nc https://raw.githubusercontent.com/lazyprogrammer/machine_learning_examples/master/hmm_class/edgar_allan_poe.txt\n",
        "!wget -nc https://raw.githubusercontent.com/lazyprogrammer/machine_learning_examples/master/hmm_class/robert_frost.txt"
      ]
    },
    {
      "cell_type": "code",
      "source": [
        "import numpy as np\n",
        "import matplotlib.pyplot as plt\n",
        "import string\n",
        "from sklearn.model_selection import train_test_split"
      ],
      "metadata": {
        "id": "xlR-9HSEzQas"
      },
      "execution_count": 2,
      "outputs": []
    },
    {
      "cell_type": "code",
      "source": [
        "input_files = [ 'edgar_allan_poe.txt' , 'robert_frost.txt',]"
      ],
      "metadata": {
        "id": "QaWpVhgV2Al0"
      },
      "execution_count": 3,
      "outputs": []
    },
    {
      "cell_type": "code",
      "source": [
        "!head edgar_allan_poe.txt"
      ],
      "metadata": {
        "colab": {
          "base_uri": "https://localhost:8080/"
        },
        "id": "o_SlpKwa2QD3",
        "outputId": "aeadd805-92b3-4fc5-c13f-9b602f67ca70"
      },
      "execution_count": 4,
      "outputs": [
        {
          "output_type": "stream",
          "name": "stdout",
          "text": [
            "LO! Death hath rear'd himself a throne\n",
            "In a strange city, all alone,\n",
            "Far down within the dim west\n",
            "Where the good, and the bad, and the worst, and the best,\n",
            "Have gone to their eternal rest.\n",
            " \n",
            "There shrines, and palaces, and towers\n",
            "Are not like any thing of ours\n",
            "Oh no! O no! ours never loom\n",
            "To heaven with that ungodly gloom!\n"
          ]
        }
      ]
    },
    {
      "cell_type": "code",
      "source": [
        "!head robert_frost.txt"
      ],
      "metadata": {
        "colab": {
          "base_uri": "https://localhost:8080/"
        },
        "id": "fQPW2Syg2WXs",
        "outputId": "fee31779-9713-4297-8778-97f0a8d01c7d"
      },
      "execution_count": 5,
      "outputs": [
        {
          "output_type": "stream",
          "name": "stdout",
          "text": [
            "Two roads diverged in a yellow wood,\n",
            "And sorry I could not travel both\n",
            "And be one traveler, long I stood\n",
            "And looked down one as far as I could\n",
            "To where it bent in the undergrowth; \n",
            "\n",
            "Then took the other, as just as fair,\n",
            "And having perhaps the better claim\n",
            "Because it was grassy and wanted wear,\n",
            "Though as for that the passing there\n"
          ]
        }
      ]
    },
    {
      "cell_type": "code",
      "source": [
        "#data into lists\n",
        "input_texts = []\n",
        "labels = []\n",
        "\n",
        "for label,f in enumerate(input_files):\n",
        "  print(f\"{f} corresponds to {label}\")\n",
        "  for line in open(f):\n",
        "    line = line.rstrip().lower()\n",
        "    if line:\n",
        "      line = line.translate(str.maketrans('','',string.punctuation))\n",
        "\n",
        "      input_texts.append(line)\n",
        "      labels.append(label)"
      ],
      "metadata": {
        "colab": {
          "base_uri": "https://localhost:8080/"
        },
        "id": "ZqyYDZJo3NFt",
        "outputId": "83a0ec20-f870-4e8e-e2e0-48d5d777d870"
      },
      "execution_count": 6,
      "outputs": [
        {
          "output_type": "stream",
          "name": "stdout",
          "text": [
            "edgar_allan_poe.txt corresponds to 0\n",
            "robert_frost.txt corresponds to 1\n"
          ]
        }
      ]
    },
    {
      "cell_type": "code",
      "source": [
        "train_text, test_text, Ytrain, Ytest = train_test_split(input_texts, labels)"
      ],
      "metadata": {
        "id": "76ec9kcx5xqi"
      },
      "execution_count": 7,
      "outputs": []
    },
    {
      "cell_type": "code",
      "source": [
        "len(Ytrain), len(Ytest)"
      ],
      "metadata": {
        "colab": {
          "base_uri": "https://localhost:8080/"
        },
        "id": "1mQNcwc45yq8",
        "outputId": "c781f38a-1aa1-4f39-f6e6-c585dbfe1d6c"
      },
      "execution_count": 8,
      "outputs": [
        {
          "output_type": "execute_result",
          "data": {
            "text/plain": [
              "(1615, 539)"
            ]
          },
          "metadata": {},
          "execution_count": 8
        }
      ]
    },
    {
      "cell_type": "code",
      "source": [
        "train_text[:5]"
      ],
      "metadata": {
        "colab": {
          "base_uri": "https://localhost:8080/"
        },
        "id": "5G3NXmRv5yoH",
        "outputId": "8a18ab31-9e04-47e4-cdde-add193bce381"
      },
      "execution_count": 9,
      "outputs": [
        {
          "output_type": "execute_result",
          "data": {
            "text/plain": [
              "['not to sink under being man and wife',\n",
              " 'this is the pit from which we starks were digged',\n",
              " 'thy grace thy more than beauty',\n",
              " 'once more before we meet elsewhere',\n",
              " 'i was a baby i dont know where i was']"
            ]
          },
          "metadata": {},
          "execution_count": 9
        }
      ]
    },
    {
      "cell_type": "code",
      "source": [
        "Ytrain[:5]"
      ],
      "metadata": {
        "colab": {
          "base_uri": "https://localhost:8080/"
        },
        "id": "3e1xXv_n5ylY",
        "outputId": "adc52b40-d8e1-4d65-fc93-1e89ea92be25"
      },
      "execution_count": 10,
      "outputs": [
        {
          "output_type": "execute_result",
          "data": {
            "text/plain": [
              "[1, 1, 0, 1, 1]"
            ]
          },
          "metadata": {},
          "execution_count": 10
        }
      ]
    },
    {
      "cell_type": "code",
      "source": [
        "idx =1\n",
        "word2idx = {'<unk>':0}"
      ],
      "metadata": {
        "id": "m4R1TL4K5ygT"
      },
      "execution_count": 11,
      "outputs": []
    },
    {
      "cell_type": "code",
      "source": [
        "#populate word2idx\n",
        "for text in train_text:\n",
        "  tokens = text.split()\n",
        "  for token in tokens:\n",
        "    if token not in word2idx:\n",
        "      word2idx[token] = idx\n",
        "      idx+=1"
      ],
      "metadata": {
        "id": "38BpzAwn9RWF"
      },
      "execution_count": 12,
      "outputs": []
    },
    {
      "cell_type": "code",
      "source": [
        "word2idx"
      ],
      "metadata": {
        "colab": {
          "base_uri": "https://localhost:8080/"
        },
        "id": "qgnp-jLs-qBn",
        "outputId": "978e6367-5eab-47f7-a636-aaca25c1efd1"
      },
      "execution_count": 13,
      "outputs": [
        {
          "output_type": "execute_result",
          "data": {
            "text/plain": [
              "{'<unk>': 0,\n",
              " 'not': 1,\n",
              " 'to': 2,\n",
              " 'sink': 3,\n",
              " 'under': 4,\n",
              " 'being': 5,\n",
              " 'man': 6,\n",
              " 'and': 7,\n",
              " 'wife': 8,\n",
              " 'this': 9,\n",
              " 'is': 10,\n",
              " 'the': 11,\n",
              " 'pit': 12,\n",
              " 'from': 13,\n",
              " 'which': 14,\n",
              " 'we': 15,\n",
              " 'starks': 16,\n",
              " 'were': 17,\n",
              " 'digged': 18,\n",
              " 'thy': 19,\n",
              " 'grace': 20,\n",
              " 'more': 21,\n",
              " 'than': 22,\n",
              " 'beauty': 23,\n",
              " 'once': 24,\n",
              " 'before': 25,\n",
              " 'meet': 26,\n",
              " 'elsewhere': 27,\n",
              " 'i': 28,\n",
              " 'was': 29,\n",
              " 'a': 30,\n",
              " 'baby': 31,\n",
              " 'dont': 32,\n",
              " 'know': 33,\n",
              " 'where': 34,\n",
              " 'began': 35,\n",
              " 'stairs': 36,\n",
              " 'two': 37,\n",
              " 'footsteps': 38,\n",
              " 'for': 39,\n",
              " 'each': 40,\n",
              " 'step': 41,\n",
              " 'leaves': 42,\n",
              " 'they': 43,\n",
              " 'withering': 44,\n",
              " 'sere': 45,\n",
              " 'live': 46,\n",
              " 'together': 47,\n",
              " 'then': 48,\n",
              " 'pull': 49,\n",
              " 'apart': 50,\n",
              " 'in': 51,\n",
              " 'fever': 52,\n",
              " 'of': 53,\n",
              " 'minute': 54,\n",
              " 'but': 55,\n",
              " 'dimremembered': 56,\n",
              " 'story': 57,\n",
              " 'end': 58,\n",
              " 'far': 59,\n",
              " 'my': 60,\n",
              " 'going': 61,\n",
              " 'forth': 62,\n",
              " 'stranger': 63,\n",
              " 'cousins': 64,\n",
              " 'family': 65,\n",
              " 'tree': 66,\n",
              " 'thus': 67,\n",
              " 'pacified': 68,\n",
              " 'psyche': 69,\n",
              " 'kissed': 70,\n",
              " 'her': 71,\n",
              " 'no': 72,\n",
              " 'alas': 73,\n",
              " 'that': 74,\n",
              " 'magical': 75,\n",
              " 'sad': 76,\n",
              " 'sound': 77,\n",
              " 'cut': 78,\n",
              " 'off': 79,\n",
              " 'friends': 80,\n",
              " 'ah': 81,\n",
              " 'safely': 82,\n",
              " 'may': 83,\n",
              " 'trust': 84,\n",
              " 'its': 85,\n",
              " 'gleaming': 86,\n",
              " 'ways': 87,\n",
              " 'can': 88,\n",
              " 'hardly': 89,\n",
              " 'tell': 90,\n",
              " 'you': 91,\n",
              " 'or': 92,\n",
              " 'some': 93,\n",
              " 'extravagance': 94,\n",
              " 'young': 95,\n",
              " 'love': 96,\n",
              " 'had': 97,\n",
              " 'been': 98,\n",
              " 'experts': 99,\n",
              " 'said': 100,\n",
              " 'deep': 101,\n",
              " 'down': 102,\n",
              " 'mountain': 103,\n",
              " 'zealous': 104,\n",
              " 'ones': 105,\n",
              " 'laborious': 106,\n",
              " 'device': 107,\n",
              " 'up': 108,\n",
              " 'at': 109,\n",
              " 'his': 110,\n",
              " 'shoulders': 111,\n",
              " 'dragging': 112,\n",
              " 'yellow': 113,\n",
              " 'strands': 114,\n",
              " 'there': 115,\n",
              " 'our': 116,\n",
              " 'wildest': 117,\n",
              " 'mount': 118,\n",
              " 'headless': 119,\n",
              " 'horse': 120,\n",
              " 'make': 121,\n",
              " 'yourself': 122,\n",
              " 'home': 123,\n",
              " 'only': 124,\n",
              " 'field': 125,\n",
              " 'estelle': 126,\n",
              " 'do': 127,\n",
              " 'housework': 128,\n",
              " 'board': 129,\n",
              " 'sorry': 130,\n",
              " 'could': 131,\n",
              " 'travel': 132,\n",
              " 'both': 133,\n",
              " 'with': 134,\n",
              " 'strange': 135,\n",
              " 'as': 136,\n",
              " 'harpstring': 137,\n",
              " 'broken': 138,\n",
              " 'having': 139,\n",
              " 'eased': 140,\n",
              " 'heart': 141,\n",
              " 'one': 142,\n",
              " 'copy': 143,\n",
              " 'seek': 144,\n",
              " 'treasure': 145,\n",
              " 'jewelled': 146,\n",
              " 'skies': 147,\n",
              " 'since': 148,\n",
              " 'it': 149,\n",
              " 'flickers': 150,\n",
              " 'heaven': 151,\n",
              " 'through': 152,\n",
              " 'night': 153,\n",
              " 'angel': 154,\n",
              " 'trod': 155,\n",
              " 'always': 156,\n",
              " 'on': 157,\n",
              " 'papered': 158,\n",
              " 'walls': 159,\n",
              " 'might': 160,\n",
              " 'have': 161,\n",
              " 'doesnt': 162,\n",
              " 'seem': 163,\n",
              " 'if': 164,\n",
              " 'by': 165,\n",
              " 'me': 166,\n",
              " 'witch': 167,\n",
              " 'something': 168,\n",
              " 'happened': 169,\n",
              " 'sweet': 170,\n",
              " 'day': 171,\n",
              " 'town': 172,\n",
              " 'old': 173,\n",
              " 'an': 174,\n",
              " 'impulse': 175,\n",
              " 'care': 176,\n",
              " 'summer': 177,\n",
              " 'when': 178,\n",
              " 'passed': 179,\n",
              " 'place': 180,\n",
              " 'heavy': 181,\n",
              " 'iron': 182,\n",
              " 'bells': 183,\n",
              " 'while': 184,\n",
              " 'am': 185,\n",
              " 'dead': 186,\n",
              " 'yet': 187,\n",
              " 'alive': 188,\n",
              " 'so': 189,\n",
              " 'near': 190,\n",
              " 'paradise': 191,\n",
              " 'all': 192,\n",
              " 'pairing': 193,\n",
              " 'ends': 194,\n",
              " 'hands': 195,\n",
              " 'gold': 196,\n",
              " 'son': 197,\n",
              " 'left': 198,\n",
              " 'cellar': 199,\n",
              " 'forty': 200,\n",
              " 'years': 201,\n",
              " 'ago': 202,\n",
              " 'has': 203,\n",
              " 'ranged': 204,\n",
              " 'threw': 205,\n",
              " 'myself': 206,\n",
              " 'wetelbowed': 207,\n",
              " 'wetkneed': 208,\n",
              " 'tamed': 209,\n",
              " 'primeval': 210,\n",
              " 'wood': 211,\n",
              " 'worn': 212,\n",
              " 'them': 213,\n",
              " 'really': 214,\n",
              " 'about': 215,\n",
              " 'same': 216,\n",
              " 'richer': 217,\n",
              " 'wilder': 218,\n",
              " 'diviner': 219,\n",
              " 'visions': 220,\n",
              " 'him': 221,\n",
              " 'who': 222,\n",
              " 'he': 223,\n",
              " 'pens': 224,\n",
              " 'thrills': 225,\n",
              " 'think': 226,\n",
              " 'however': 227,\n",
              " 'must': 228,\n",
              " 'go': 229,\n",
              " 'bricks': 230,\n",
              " 'mortal': 231,\n",
              " 'melody': 232,\n",
              " 'fête': 233,\n",
              " 'today': 234,\n",
              " 'hold': 235,\n",
              " 'legs': 236,\n",
              " 'thou': 237,\n",
              " 'wouldst': 238,\n",
              " 'be': 239,\n",
              " 'loved': 240,\n",
              " 'let': 241,\n",
              " 'perhaps': 242,\n",
              " 'hear': 243,\n",
              " 'word': 244,\n",
              " 'weather': 245,\n",
              " 'serenest': 246,\n",
              " 'continually': 247,\n",
              " 'baubles': 248,\n",
              " 'take': 249,\n",
              " 'want': 250,\n",
              " 'gives': 251,\n",
              " 'glimpses': 252,\n",
              " 'those': 253,\n",
              " 'pale': 254,\n",
              " 'dim': 255,\n",
              " 'match': 256,\n",
              " 'flame': 257,\n",
              " 'sun': 258,\n",
              " 'well': 259,\n",
              " 'now': 260,\n",
              " 'lake': 261,\n",
              " 'auber': 262,\n",
              " 'wrong': 263,\n",
              " 'theyve': 264,\n",
              " 'got': 265,\n",
              " 'settled': 266,\n",
              " 'prove': 267,\n",
              " 'youd': 268,\n",
              " 'seen': 269,\n",
              " 'stone': 270,\n",
              " 'baptismal': 271,\n",
              " 'font': 272,\n",
              " 'science': 273,\n",
              " 'true': 274,\n",
              " 'daughter': 275,\n",
              " 'time': 276,\n",
              " 'art': 277,\n",
              " 'into': 278,\n",
              " 'western': 279,\n",
              " 'couch': 280,\n",
              " 'thundercloud': 281,\n",
              " 'stroked': 282,\n",
              " 'hornyhanded': 283,\n",
              " 'kindness': 284,\n",
              " 'sacred': 285,\n",
              " 'weeping': 286,\n",
              " 'bless': 287,\n",
              " 'thee': 288,\n",
              " 'say': 289,\n",
              " 'buds': 290,\n",
              " 'are': 291,\n",
              " 'leaf': 292,\n",
              " 'bloom': 293,\n",
              " 'last': 294,\n",
              " 'looking': 295,\n",
              " 'hesperides': 296,\n",
              " 'cannot': 297,\n",
              " 'write': 298,\n",
              " 'speak': 299,\n",
              " 'good': 300,\n",
              " 'garden': 301,\n",
              " 'things': 302,\n",
              " 'softmurmured': 303,\n",
              " 'words': 304,\n",
              " 'light': 305,\n",
              " 'flowers': 306,\n",
              " 'merely': 307,\n",
              " 'whom': 308,\n",
              " 'dew': 309,\n",
              " 'like': 310,\n",
              " 'poetesss': 311,\n",
              " 'mica': 312,\n",
              " 'sheets': 313,\n",
              " 'big': 314,\n",
              " 'plateglass': 315,\n",
              " 'windows': 316,\n",
              " 'consideration': 317,\n",
              " 'gilt': 318,\n",
              " 'wouldnt': 319,\n",
              " 'show': 320,\n",
              " 'she': 321,\n",
              " 'would': 322,\n",
              " 'rid': 323,\n",
              " 'books': 324,\n",
              " 'bowed': 325,\n",
              " 'outward': 326,\n",
              " 'halfway': 327,\n",
              " 'frogs': 328,\n",
              " 'peeping': 329,\n",
              " 'thousand': 330,\n",
              " 'shrill': 331,\n",
              " 'too': 332,\n",
              " 'late': 333,\n",
              " 'holy': 334,\n",
              " 'throne': 335,\n",
              " 'above': 336,\n",
              " 'headed': 337,\n",
              " 'for—': 338,\n",
              " 'mean': 339,\n",
              " 'just': 340,\n",
              " 'skulls': 341,\n",
              " 'rogers': 342,\n",
              " 'rangers': 343,\n",
              " 'clasps': 344,\n",
              " 'laughed': 345,\n",
              " 'luminary': 346,\n",
              " 'clock': 347,\n",
              " 'against': 348,\n",
              " 'sky': 349,\n",
              " 'how': 350,\n",
              " 'tended': 351,\n",
              " 'vacuum': 352,\n",
              " 'filmy': 353,\n",
              " 'yes': 354,\n",
              " 'thine': 355,\n",
              " 'stained': 356,\n",
              " 'vegetation': 357,\n",
              " 'johns': 358,\n",
              " 'almost': 359,\n",
              " 'here': 360,\n",
              " 'ive': 361,\n",
              " 'eye': 362,\n",
              " 'someone': 363,\n",
              " 'wentworth': 364,\n",
              " 'warrens': 365,\n",
              " 'towns': 366,\n",
              " 't': 367,\n",
              " 'awake': 368,\n",
              " 'us': 369,\n",
              " 'tis': 370,\n",
              " 'symbol': 371,\n",
              " 'token': 372,\n",
              " 'away': 373,\n",
              " 'interrupted': 374,\n",
              " 'cry': 375,\n",
              " 'lets': 376,\n",
              " 'trap': 377,\n",
              " 'open': 378,\n",
              " 'door': 379,\n",
              " 'attic': 380,\n",
              " 'banners': 381,\n",
              " 'glorious': 382,\n",
              " 'golden': 383,\n",
              " 'see': 384,\n",
              " 'pretty': 385,\n",
              " 'outdoors': 386,\n",
              " 'hast': 387,\n",
              " 'dragged': 388,\n",
              " 'diana': 389,\n",
              " 'car': 390,\n",
              " 'most': 391,\n",
              " 'immemorial': 392,\n",
              " 'year': 393,\n",
              " 'blend': 394,\n",
              " 'turrets': 395,\n",
              " 'shadows': 396,\n",
              " 'what': 397,\n",
              " 'will': 398,\n",
              " 'smash': 399,\n",
              " 'havent': 400,\n",
              " 'brought': 401,\n",
              " 'fountain': 402,\n",
              " 'stock': 403,\n",
              " 'counts': 404,\n",
              " 'ideals': 405,\n",
              " 'agony': 406,\n",
              " 'sobbed': 407,\n",
              " 'letting': 408,\n",
              " 'birds': 409,\n",
              " 'outer': 410,\n",
              " 'windowsill': 411,\n",
              " 'boys': 412,\n",
              " 'bad': 413,\n",
              " 'hunters': 414,\n",
              " 'known': 415,\n",
              " 'though': 416,\n",
              " 'stop': 417,\n",
              " 'wet': 418,\n",
              " 'stampede': 419,\n",
              " 'never': 420,\n",
              " 'seraph': 421,\n",
              " 'spread': 422,\n",
              " 'pinion': 423,\n",
              " 'look': 424,\n",
              " 'turns': 425,\n",
              " 'out': 426,\n",
              " 'does': 427,\n",
              " 'purport': 428,\n",
              " 'grandsirs': 429,\n",
              " 'legitimately': 430,\n",
              " 'demand': 431,\n",
              " 'upon': 432,\n",
              " 'their': 433,\n",
              " 'noted': 434,\n",
              " 'pipes': 435,\n",
              " 'smoking': 436,\n",
              " 'jug': 437,\n",
              " 'until': 438,\n",
              " 'id': 439,\n",
              " 'skin': 440,\n",
              " 'bones': 441,\n",
              " 'past': 442,\n",
              " 'get': 443,\n",
              " 'strangeness': 444,\n",
              " 'your': 445,\n",
              " 'gems': 446,\n",
              " 'thought': 447,\n",
              " 'turn': 448,\n",
              " 'sure': 449,\n",
              " 'lead': 450,\n",
              " 'aright': 451,\n",
              " 'gone': 452,\n",
              " 'ruler': 453,\n",
              " 'realm': 454,\n",
              " 'small': 455,\n",
              " 'book': 456,\n",
              " 'pocket': 457,\n",
              " 'hot': 458,\n",
              " 'enough': 459,\n",
              " 'first': 460,\n",
              " 'acquainted': 461,\n",
              " 'entertain': 462,\n",
              " 'describing': 463,\n",
              " 'rings': 464,\n",
              " 'lantern': 465,\n",
              " 'looked': 466,\n",
              " 'nine': 467,\n",
              " 'swarm': 468,\n",
              " 'turned': 469,\n",
              " 'rock': 470,\n",
              " 'hail': 471,\n",
              " 'presence': 472,\n",
              " 'morning': 473,\n",
              " 'hate': 474,\n",
              " 'hell': 475,\n",
              " 'sort': 476,\n",
              " 'swear': 477,\n",
              " 'hes': 478,\n",
              " 'awful': 479,\n",
              " 'disappeared': 480,\n",
              " 'ended': 481,\n",
              " 'twenty': 482,\n",
              " 'springs': 483,\n",
              " 'because': 484,\n",
              " 'grassy': 485,\n",
              " 'wanted': 486,\n",
              " 'wear': 487,\n",
              " 'tent': 488,\n",
              " 'grove': 489,\n",
              " 'orchard': 490,\n",
              " 'reckon': 491,\n",
              " 'cousinship': 492,\n",
              " 'entombed': 493,\n",
              " 'glass': 494,\n",
              " 'case': 495,\n",
              " 'house': 496,\n",
              " 'keep': 497,\n",
              " 'john': 498,\n",
              " 'wide': 499,\n",
              " 'didnt': 500,\n",
              " 'enter': 501,\n",
              " 'radiant': 502,\n",
              " 'palace': 503,\n",
              " 'reared': 504,\n",
              " 'head': 505,\n",
              " 'anything': 506,\n",
              " 'warn': 507,\n",
              " 'crib': 508,\n",
              " 'slept': 509,\n",
              " 'sures': 510,\n",
              " 'youre': 511,\n",
              " 'born': 512,\n",
              " 'journeyed': 513,\n",
              " 'still': 514,\n",
              " 'ran': 515,\n",
              " 'scuttled': 516,\n",
              " 'fast': 517,\n",
              " 'idols': 518,\n",
              " 'diamond': 519,\n",
              " 'ghoulhaunted': 520,\n",
              " 'woodland': 521,\n",
              " 'weir': 522,\n",
              " 'tears': 523,\n",
              " 'dry': 524,\n",
              " 'used': 525,\n",
              " 'roar': 526,\n",
              " 'piercing': 527,\n",
              " 'little': 528,\n",
              " 'star': 529,\n",
              " 'card': 530,\n",
              " 'such': 531,\n",
              " 'fine': 532,\n",
              " 'fibrils': 533,\n",
              " 'life': 534,\n",
              " 'hand': 535,\n",
              " 'buttonbox': 536,\n",
              " 'blow': 537,\n",
              " 'sadly': 538,\n",
              " 'mistrust': 539,\n",
              " 'expanding': 540,\n",
              " 'lips': 541,\n",
              " 'rivers': 542,\n",
              " 'glide': 543,\n",
              " 'point': 544,\n",
              " 'path': 545,\n",
              " 'come': 546,\n",
              " 'lair': 547,\n",
              " 'lion': 548,\n",
              " 'dank': 549,\n",
              " 'tarn': 550,\n",
              " 'natures': 551,\n",
              " 'green': 552,\n",
              " 'weve': 553,\n",
              " 'fifteen': 554,\n",
              " 'times': 555,\n",
              " 'rule': 556,\n",
              " 'arm': 557,\n",
              " 'founts': 558,\n",
              " 'bliss': 559,\n",
              " 'knees': 560,\n",
              " 'unless': 561,\n",
              " 'done': 562,\n",
              " 'hellforleather': 563,\n",
              " 'ought': 564,\n",
              " 'protection': 565,\n",
              " 'dust': 566,\n",
              " 'feather': 567,\n",
              " 'twice': 568,\n",
              " 'around': 569,\n",
              " 'theirs': 570,\n",
              " 'interlock': 571,\n",
              " 'windbreak': 572,\n",
              " 'united': 573,\n",
              " 'strengths': 574,\n",
              " 'mother': 575,\n",
              " 'fault': 576,\n",
              " 'husband': 577,\n",
              " 'found': 578,\n",
              " 'early': 579,\n",
              " 'mormons': 580,\n",
              " 'made': 581,\n",
              " 'settlement': 582,\n",
              " 'journey': 583,\n",
              " 'expense': 584,\n",
              " 'reach': 585,\n",
              " 'tho': 586,\n",
              " 'faith': 587,\n",
              " 'godliness': 588,\n",
              " 'whose': 589,\n",
              " 'strolled': 590,\n",
              " 'thither': 591,\n",
              " 'expecting': 592,\n",
              " 'find': 593,\n",
              " 'storms': 594,\n",
              " 'fate': 595,\n",
              " 'oercast': 596,\n",
              " 'absence': 597,\n",
              " 'coat': 598,\n",
              " 'seated': 599,\n",
              " 'better': 600,\n",
              " 'defeat': 601,\n",
              " 'hole': 602,\n",
              " 'byroad': 603,\n",
              " 'beyond': 604,\n",
              " 'utterance': 605,\n",
              " 'human': 606,\n",
              " 'tongue': 607,\n",
              " 'relish': 608,\n",
              " 'along': 609,\n",
              " 'men': 610,\n",
              " 'spilled': 611,\n",
              " 'window': 612,\n",
              " 'toward': 613,\n",
              " 'lie': 614,\n",
              " 'heartstrings': 615,\n",
              " 'partial': 616,\n",
              " 'greatgrandmother': 617,\n",
              " 'fresh': 618,\n",
              " 'myrtle': 619,\n",
              " 'blade': 620,\n",
              " 'ill': 621,\n",
              " 'entwine': 622,\n",
              " 'oh': 623,\n",
              " 'kept': 624,\n",
              " 'another': 625,\n",
              " 'way': 626,\n",
              " 'felt': 627,\n",
              " 'technical': 628,\n",
              " 'three': 629,\n",
              " 'cards': 630,\n",
              " 'lofty': 631,\n",
              " 'original': 632,\n",
              " 'rage': 633,\n",
              " 'dignity': 634,\n",
              " 'mien': 635,\n",
              " 'wont': 636,\n",
              " 'back': 637,\n",
              " 'worse': 638,\n",
              " 'cant': 639,\n",
              " 'lo': 640,\n",
              " 'stir': 641,\n",
              " 'air': 642,\n",
              " 'particular': 643,\n",
              " 'oclock': 644,\n",
              " 'free': 645,\n",
              " 'kick': 646,\n",
              " 'folks': 647,\n",
              " 'faces': 648,\n",
              " 'west': 649,\n",
              " 'getting': 650,\n",
              " 'hath': 651,\n",
              " 'ever': 652,\n",
              " 'told': 653,\n",
              " 'sitting': 654,\n",
              " 'standing': 655,\n",
              " 'chose': 656,\n",
              " 'doubted': 657,\n",
              " 'should': 658,\n",
              " 'bathe': 659,\n",
              " 'crystalline': 660,\n",
              " 'ashes': 661,\n",
              " 'whence': 662,\n",
              " 'spring': 663,\n",
              " 'grow': 664,\n",
              " 'memory': 665,\n",
              " 'nailed': 666,\n",
              " 'cedar': 667,\n",
              " 'waterside': 668,\n",
              " 'sinners': 669,\n",
              " 'sacrifice': 670,\n",
              " 'mighty': 671,\n",
              " 'believe': 672,\n",
              " 'winter': 673,\n",
              " 'evening': 674,\n",
              " 'walk': 675,\n",
              " 'misty': 676,\n",
              " 'mid': 677,\n",
              " 'region': 678,\n",
              " 'starlight': 679,\n",
              " 'pall': 680,\n",
              " 'enamored': 681,\n",
              " 'moon': 682,\n",
              " 'transfixed': 683,\n",
              " 'slopes': 684,\n",
              " 'erect': 685,\n",
              " 'arthur': 686,\n",
              " 'amy': 687,\n",
              " 'married': 688,\n",
              " 'saw': 689,\n",
              " 'between': 690,\n",
              " 'barn': 691,\n",
              " 'gale': 692,\n",
              " 'drawn': 693,\n",
              " 'hearts': 694,\n",
              " 'passion': 695,\n",
              " 'tone': 696,\n",
              " 'started': 697,\n",
              " 'courting': 698,\n",
              " 'moisture': 699,\n",
              " 'color': 700,\n",
              " 'odor': 701,\n",
              " 'thicken': 702,\n",
              " 'thinks': 703,\n",
              " 'dark': 704,\n",
              " 'flooded': 705,\n",
              " 'daylight': 706,\n",
              " 'winds': 707,\n",
              " 'places': 708,\n",
              " 'bleak': 709,\n",
              " 'destination': 710,\n",
              " 'destinys': 711,\n",
              " 'harness': 712,\n",
              " 'shake': 713,\n",
              " 'elfin': 714,\n",
              " 'grass': 715,\n",
              " 'theres': 716,\n",
              " 'harm': 717,\n",
              " 'trapper': 718,\n",
              " 'world': 719,\n",
              " 'truly': 720,\n",
              " 'earth': 721,\n",
              " 'studying': 722,\n",
              " 'genealogy': 723,\n",
              " 'why': 724,\n",
              " 'cared': 725,\n",
              " 'himself': 726,\n",
              " 'queer': 727,\n",
              " 'polish': 728,\n",
              " 'crust': 729,\n",
              " 'isola': 730,\n",
              " 'doro': 731,\n",
              " 'fior': 732,\n",
              " 'di': 733,\n",
              " 'levante': 734,\n",
              " 'grave': 735,\n",
              " 'these': 736,\n",
              " 'cheeks': 737,\n",
              " 'worm': 738,\n",
              " 'dies': 739,\n",
              " 'brook': 740,\n",
              " 'water': 741,\n",
              " 'half': 742,\n",
              " 'outdoor': 743,\n",
              " 'work': 744,\n",
              " 'spirit': 745,\n",
              " 'communing': 746,\n",
              " 'angels': 747,\n",
              " 'accursed': 748,\n",
              " 'ground': 749,\n",
              " 'rare': 750,\n",
              " 'song': 751,\n",
              " 'neighbour': 752,\n",
              " 'im': 753,\n",
              " 'after': 754,\n",
              " 'speel': 755,\n",
              " 'every': 756,\n",
              " 'single': 757,\n",
              " 'lizard': 758,\n",
              " 'front': 759,\n",
              " 'others': 760,\n",
              " 'wriggling': 761,\n",
              " 'speed': 762,\n",
              " 'gained': 763,\n",
              " 'foothold': 764,\n",
              " 'pursued': 765,\n",
              " 'boring': 766,\n",
              " 'climbing': 767,\n",
              " 'halted': 768,\n",
              " 'helpless': 769,\n",
              " 'landing': 770,\n",
              " 'staid': 771,\n",
              " 'shelter': 772,\n",
              " 'farm': 773,\n",
              " 'remaining': 774,\n",
              " 'aster': 775,\n",
              " 'flower': 776,\n",
              " 'converging': 777,\n",
              " 'slides': 778,\n",
              " 'avalanches': 779,\n",
              " 'entablatures': 780,\n",
              " 'intertwine': 781,\n",
              " 'death': 782,\n",
              " 'reard': 783,\n",
              " 'nearest': 784,\n",
              " 'resembles': 785,\n",
              " 'worship': 786,\n",
              " 'remember': 787,\n",
              " 'mebbe': 788,\n",
              " 'raining': 789,\n",
              " 'wonder': 790,\n",
              " 'oracle': 791,\n",
              " 'tending': 792,\n",
              " 'exclaimed': 793,\n",
              " 'afar': 794,\n",
              " 'passer': 795,\n",
              " 'fall': 796,\n",
              " 'abouncing': 797,\n",
              " 'feet': 798,\n",
              " 'voices': 799,\n",
              " 'given': 800,\n",
              " 'else': 801,\n",
              " 'brown': 802,\n",
              " 'cold': 803,\n",
              " 'ghost': 804,\n",
              " 'amid': 805,\n",
              " 'entombing': 806,\n",
              " 'trees': 807,\n",
              " 'isnt': 808,\n",
              " 'learned': 809,\n",
              " 'riding': 810,\n",
              " 'trains': 811,\n",
              " 'came': 812,\n",
              " 'cart': 813,\n",
              " 'pair': 814,\n",
              " 'fell': 815,\n",
              " 'silverysilken': 816,\n",
              " 'veil': 817,\n",
              " 'future': 818,\n",
              " 'shine': 819,\n",
              " 'faster': 820,\n",
              " 'slower': 821,\n",
              " 'chanced': 822,\n",
              " 'liquescent': 823,\n",
              " 'sovereignty': 824,\n",
              " 'ancient': 825,\n",
              " 'lore': 826,\n",
              " 'put': 827,\n",
              " 'sign': 828,\n",
              " 'closed': 829,\n",
              " 'storm': 830,\n",
              " 'talk': 831,\n",
              " 'round': 832,\n",
              " 'glory': 833,\n",
              " 'breaking': 834,\n",
              " 'run': 835,\n",
              " 'spoke': 836,\n",
              " 'lettered': 837,\n",
              " 'try': 838,\n",
              " 'fathom': 839,\n",
              " 'call': 840,\n",
              " 'ye': 841,\n",
              " 'avengers': 842,\n",
              " 'libertys': 843,\n",
              " 'wrongs': 844,\n",
              " 'judged': 845,\n",
              " 'crystal': 846,\n",
              " 'chill': 847,\n",
              " 'acquaintance': 848,\n",
              " 'adventurously': 849,\n",
              " 'sometimes': 850,\n",
              " 'seemed': 851,\n",
              " 'yield': 852,\n",
              " 'own': 853,\n",
              " 'fervour': 854,\n",
              " 'oer': 855,\n",
              " 'power': 856,\n",
              " 'chimney': 857,\n",
              " 'stove': 858,\n",
              " 'girl': 859,\n",
              " 'haunt': 860,\n",
              " 'side': 861,\n",
              " 'panther': 862,\n",
              " 'orchid': 863,\n",
              " 'calypso': 864,\n",
              " 'well—i—be—': 865,\n",
              " 'curl': 866,\n",
              " 'finger': 867,\n",
              " 'guide': 868,\n",
              " 'whir': 869,\n",
              " 'sober': 870,\n",
              " 'facts': 871,\n",
              " 'sold': 872,\n",
              " 'astartes': 873,\n",
              " 'bediamonded': 874,\n",
              " 'crescent': 875,\n",
              " 'fond': 876,\n",
              " 'nice': 877,\n",
              " 'god': 878,\n",
              " 'high': 879,\n",
              " 'towers': 880,\n",
              " 'set': 881,\n",
              " 'lethean': 882,\n",
              " 'peace': 883,\n",
              " 'bade': 884,\n",
              " 'pause': 885,\n",
              " 'gardengate': 886,\n",
              " 'four': 887,\n",
              " 'yours': 888,\n",
              " 'mine': 889,\n",
              " 'branch': 890,\n",
              " 'hideous': 891,\n",
              " 'throng': 892,\n",
              " 'rush': 893,\n",
              " 'forever': 894,\n",
              " 'exist': 895,\n",
              " 'thatd': 896,\n",
              " 'days': 897,\n",
              " 'birch': 898,\n",
              " 'boughs': 899,\n",
              " 'piled': 900,\n",
              " 'everywhere—': 901,\n",
              " 'hours': 902,\n",
              " 'gather': 903,\n",
              " 'atmosphere': 904,\n",
              " 'maintained': 905,\n",
              " 'denied': 906,\n",
              " 'introduce': 907,\n",
              " 'people': 908,\n",
              " 'whats': 909,\n",
              " 'much': 910,\n",
              " 'soul': 911,\n",
              " 'lest': 912,\n",
              " 'truant': 913,\n",
              " 'doubts': 914,\n",
              " 'nothing': 915,\n",
              " 'toffile': 916,\n",
              " 'pay': 917,\n",
              " 'birth': 918,\n",
              " 'fear': 919,\n",
              " 'treading': 920,\n",
              " 'shall': 921,\n",
              " 'give': 922,\n",
              " 'undivided': 923,\n",
              " 'outwalked': 924,\n",
              " 'furthest': 925,\n",
              " 'city': 926,\n",
              " 'hard': 927,\n",
              " 'invisible': 928,\n",
              " 'wishing': 929,\n",
              " 'stay': 930,\n",
              " 'rude': 931,\n",
              " 'instant': 932,\n",
              " 'strife': 933,\n",
              " 'ahead': 934,\n",
              " 'foot': 935,\n",
              " 'youve': 936,\n",
              " 'lost': 937,\n",
              " 'weak': 938,\n",
              " 'lines': 939,\n",
              " 'written': 940,\n",
              " 'shadow': 941,\n",
              " 'perfect': 942,\n",
              " 'takes': 943,\n",
              " 'suns': 944,\n",
              " 'wizard': 945,\n",
              " 'nation': 946,\n",
              " 'thats': 947,\n",
              " 'waves': 948,\n",
              " 'redder': 949,\n",
              " 'glow': 950,\n",
              " 'knowing': 951,\n",
              " 'leads': 952,\n",
              " 'wild': 953,\n",
              " 'fraught': 954,\n",
              " 'youth': 955,\n",
              " 'shoes': 956,\n",
              " 'primped': 957,\n",
              " 'dance': 958,\n",
              " 'smith': 959,\n",
              " 'called': 960,\n",
              " 'misting': 961,\n",
              " 'fair': 962,\n",
              " 'did': 963,\n",
              " 'knew': 964,\n",
              " 'spend': 965,\n",
              " 'lavas': 966,\n",
              " 'restlessly': 967,\n",
              " 'roll': 968,\n",
              " 'ice': 969,\n",
              " 'pearl': 970,\n",
              " 'ruby': 971,\n",
              " 'glowing': 972,\n",
              " 'stars': 973,\n",
              " 'level': 974,\n",
              " 'nearer': 975,\n",
              " 'overhead': 976,\n",
              " 'many': 977,\n",
              " 'smoothlaid': 978,\n",
              " 'thatch': 979,\n",
              " 'boy': 980,\n",
              " 'wilderness': 981,\n",
              " 'distinct': 982,\n",
              " 'duplicate': 983,\n",
              " 'horn': 984,\n",
              " 'ask': 985,\n",
              " 'nights': 986,\n",
              " 'shes': 987,\n",
              " 'kiting': 988,\n",
              " 'otherwise': 989,\n",
              " 'lefts': 990,\n",
              " 'bigger': 991,\n",
              " 'gall': 992,\n",
              " 'slippery': 993,\n",
              " 'rocks': 994,\n",
              " 'beside': 995,\n",
              " 'waterfall': 996,\n",
              " 'across': 997,\n",
              " 'sill': 998,\n",
              " 'conquered': 999,\n",
              " ...}"
            ]
          },
          "metadata": {},
          "execution_count": 13
        }
      ]
    },
    {
      "cell_type": "code",
      "source": [
        "len(word2idx)"
      ],
      "metadata": {
        "colab": {
          "base_uri": "https://localhost:8080/"
        },
        "id": "j7HGROAk_ysm",
        "outputId": "e6f795ea-2c30-41ab-d7c3-e58b6e596cba"
      },
      "execution_count": 14,
      "outputs": [
        {
          "output_type": "execute_result",
          "data": {
            "text/plain": [
              "2513"
            ]
          },
          "metadata": {},
          "execution_count": 14
        }
      ]
    },
    {
      "cell_type": "code",
      "source": [
        "#data into integer format\n",
        "train_text_int = []\n",
        "test_text_int = []\n",
        "\n",
        "for text in train_text:\n",
        "  tokens = text.split()\n",
        "  line_as_int = [word2idx[token] for token in tokens]\n",
        "  train_text_int.append(line_as_int)\n",
        "\n",
        "for text in test_text:\n",
        "  tokens = text.split()\n",
        "  line_as_int = [word2idx.get(token,0) for token in tokens]\n",
        "  test_text_int.append(line_as_int)"
      ],
      "metadata": {
        "id": "gYH2nttC_4E0"
      },
      "execution_count": 15,
      "outputs": []
    },
    {
      "cell_type": "code",
      "source": [
        "train_text_int[100:105]"
      ],
      "metadata": {
        "colab": {
          "base_uri": "https://localhost:8080/"
        },
        "id": "EbHTsuCfANSD",
        "outputId": "6ddd853c-04b0-4f27-e0fc-601b48b4cf1b"
      },
      "execution_count": 16,
      "outputs": [
        {
          "output_type": "execute_result",
          "data": {
            "text/plain": [
              "[[53, 60, 391, 392, 393],\n",
              " [189, 394, 11, 395, 7, 396, 115],\n",
              " [397, 28, 226, 223, 398, 127, 10, 241, 302, 399],\n",
              " [259, 164, 28, 400, 401, 91, 2, 11, 402],\n",
              " [53, 11, 173, 403, 397, 404, 10, 11, 405]]"
            ]
          },
          "metadata": {},
          "execution_count": 16
        }
      ]
    },
    {
      "cell_type": "code",
      "source": [
        "#initialising A and pi matrices - for both classes\n",
        "V = len(word2idx)\n",
        "\n",
        "A0 = np.ones((V,V))\n",
        "pi0 = np.ones(V)\n",
        "\n",
        "A1 = np.ones((V,V))\n",
        "pi1 = np.ones(V)"
      ],
      "metadata": {
        "id": "d_OlbKZ7BxIn"
      },
      "execution_count": 17,
      "outputs": []
    },
    {
      "cell_type": "code",
      "source": [
        "#Computing counts for A and pi\n",
        "def compute_counts(text_as_int, A, pi):\n",
        "  for tokens in text_as_int:\n",
        "    last_idx = None\n",
        "    for idx in tokens:\n",
        "      if last_idx is None:\n",
        "        pi[idx] +=1\n",
        "      else:\n",
        "        A[last_idx,idx] +=1\n",
        "\n",
        "      last_idx = idx\n",
        "\n",
        "  compute_counts([t for t, y in zip(train_text_int, Ytrain) if y==0], A0, pi0)\n",
        "  compute_counts([t for t, y in zip(train_text_int, Ytrain) if y==1], A1, pi1)"
      ],
      "metadata": {
        "id": "hWTdmZoXDS5L"
      },
      "execution_count": 18,
      "outputs": []
    },
    {
      "cell_type": "code",
      "source": [
        "#Normalising A and pi\n",
        "A0 /= A0.sum(axis=1, keepdims=True)\n",
        "pi0 /= pi0.sum()\n",
        "\n",
        "A1 /= A1.sum(axis=1, keepdims=True)\n",
        "pi1 /= pi1.sum()"
      ],
      "metadata": {
        "id": "aw0b2s28DS1x"
      },
      "execution_count": 19,
      "outputs": []
    },
    {
      "cell_type": "code",
      "source": [
        "logA0 = np.log(A0)\n",
        "logpi0 = np.log(pi0)\n",
        "\n",
        "logA1 = np.log(A1)\n",
        "logpi1 = np.log(pi1)"
      ],
      "metadata": {
        "id": "wbT6o82kDSy-"
      },
      "execution_count": 20,
      "outputs": []
    },
    {
      "cell_type": "code",
      "source": [
        "count0 = sum(y==0 for y in Ytrain)\n",
        "count1 = sum(y==1 for y in Ytrain)\n",
        "total = len(Ytrain)\n",
        "p0 = count0 / total\n",
        "p1 = count1 / total\n",
        "logp0 = np.log(p0)\n",
        "logp1 = np.log(p1)\n",
        "p0, p1"
      ],
      "metadata": {
        "colab": {
          "base_uri": "https://localhost:8080/"
        },
        "id": "U2NF9mfvDSwD",
        "outputId": "69f491cb-de28-4fa7-ea66-acd0237bfdea"
      },
      "execution_count": 21,
      "outputs": [
        {
          "output_type": "execute_result",
          "data": {
            "text/plain": [
              "(0.3368421052631579, 0.6631578947368421)"
            ]
          },
          "metadata": {},
          "execution_count": 21
        }
      ]
    },
    {
      "cell_type": "code",
      "source": [
        "#Building a Classifier\n",
        "class Classifier:\n",
        "    def __init__(self, logAs, logpis, logpriors):\n",
        "        self.logAs = logAs\n",
        "        self.logpis = logpis\n",
        "        self.logpriors = logpriors\n",
        "        self.K = len(logpriors)  # number of classes\n",
        "\n",
        "\n",
        "    def _compute_log_likelihood(self, input_, class_):\n",
        "      logA = self.logAs[class_]\n",
        "      logpi = self.logpis[class_]\n",
        "\n",
        "      last_idx = None\n",
        "      logprob = 0\n",
        "      for idx in input_:\n",
        "        if last_idx is None:\n",
        "          logprob += logpi[idx]\n",
        "        else:\n",
        "          logprob += logA[last_idx, idx]\n",
        "\n",
        "        last_idx = idx\n",
        "\n",
        "      return logprob\n",
        "\n",
        "    def predict(self, inputs):\n",
        "      predictions = np.zeros(len(inputs))\n",
        "      for i, input_ in enumerate(inputs):\n",
        "        posteriors = [self._compute_log_likelihood(input_, c) + self.logpriors[c] \\\n",
        "                      for c in range(self.K)]\n",
        "        pred = np.argmax(posteriors)\n",
        "        predictions[i] = pred\n",
        "      return predictions\n"
      ],
      "metadata": {
        "id": "x0uMn7FqKYAq"
      },
      "execution_count": 22,
      "outputs": []
    },
    {
      "cell_type": "code",
      "source": [
        "clf = Classifier([logA0, logA1], [logpi0, logpi1], [logp0, logp1])"
      ],
      "metadata": {
        "id": "eFv7rzLTMOG5"
      },
      "execution_count": 23,
      "outputs": []
    },
    {
      "cell_type": "code",
      "source": [
        "Ptrain = clf.predict(train_text_int)\n",
        "print(f\"Train acc: {np.mean(Ptrain == Ytrain)}\")"
      ],
      "metadata": {
        "colab": {
          "base_uri": "https://localhost:8080/"
        },
        "id": "OONbRoV0Nxqg",
        "outputId": "4e8f1377-8325-49d7-c731-823457a27c8f"
      },
      "execution_count": 24,
      "outputs": [
        {
          "output_type": "stream",
          "name": "stdout",
          "text": [
            "Train acc: 0.6631578947368421\n"
          ]
        }
      ]
    },
    {
      "cell_type": "code",
      "source": [
        "Ptest = clf.predict(test_text_int)\n",
        "print(f\"Test acc: {np.mean(Ptest == Ytest)}\")"
      ],
      "metadata": {
        "colab": {
          "base_uri": "https://localhost:8080/"
        },
        "id": "aeul69upOYPK",
        "outputId": "06cdb113-0a68-4617-a472-5a30a7a9e81f"
      },
      "execution_count": 25,
      "outputs": [
        {
          "output_type": "stream",
          "name": "stdout",
          "text": [
            "Test acc: 0.6771799628942486\n"
          ]
        }
      ]
    },
    {
      "cell_type": "code",
      "source": [
        "from sklearn.metrics import confusion_matrix, f1_score"
      ],
      "metadata": {
        "id": "DqCi2tRMOYL1"
      },
      "execution_count": 26,
      "outputs": []
    },
    {
      "cell_type": "code",
      "source": [
        "cm = confusion_matrix(Ytrain, Ptrain)\n",
        "cm"
      ],
      "metadata": {
        "colab": {
          "base_uri": "https://localhost:8080/"
        },
        "id": "x8J2P91NOYJP",
        "outputId": "410009f7-cd6e-47f5-9052-c94659c85ef3"
      },
      "execution_count": 27,
      "outputs": [
        {
          "output_type": "execute_result",
          "data": {
            "text/plain": [
              "array([[   0,  544],\n",
              "       [   0, 1071]])"
            ]
          },
          "metadata": {},
          "execution_count": 27
        }
      ]
    },
    {
      "cell_type": "code",
      "source": [
        "cm_test = confusion_matrix(Ytest, Ptest)\n",
        "cm_test"
      ],
      "metadata": {
        "colab": {
          "base_uri": "https://localhost:8080/"
        },
        "id": "ZWVOdQnnOYG3",
        "outputId": "03b8bd02-66be-4c51-8d53-ffee7adf8f85"
      },
      "execution_count": 28,
      "outputs": [
        {
          "output_type": "execute_result",
          "data": {
            "text/plain": [
              "array([[  0, 174],\n",
              "       [  0, 365]])"
            ]
          },
          "metadata": {},
          "execution_count": 28
        }
      ]
    },
    {
      "cell_type": "code",
      "source": [
        "f1_score(Ytrain, Ptrain)"
      ],
      "metadata": {
        "colab": {
          "base_uri": "https://localhost:8080/"
        },
        "id": "q9Nutvq0OYEs",
        "outputId": "4f8f5b6c-bf9f-41c6-dbb4-cda3430b5be7"
      },
      "execution_count": 29,
      "outputs": [
        {
          "output_type": "execute_result",
          "data": {
            "text/plain": [
              "0.7974683544303798"
            ]
          },
          "metadata": {},
          "execution_count": 29
        }
      ]
    },
    {
      "cell_type": "code",
      "source": [
        "f1_score(Ytest, Ptest)"
      ],
      "metadata": {
        "colab": {
          "base_uri": "https://localhost:8080/"
        },
        "id": "TBvJNFCYOYDZ",
        "outputId": "6b04e394-0376-4069-cef6-96a31c9d245f"
      },
      "execution_count": 30,
      "outputs": [
        {
          "output_type": "execute_result",
          "data": {
            "text/plain": [
              "0.8075221238938053"
            ]
          },
          "metadata": {},
          "execution_count": 30
        }
      ]
    },
    {
      "cell_type": "code",
      "source": [],
      "metadata": {
        "id": "zmVz2PPyPCxm"
      },
      "execution_count": 30,
      "outputs": []
    }
  ]
}